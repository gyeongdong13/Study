{
  "nbformat": 4,
  "nbformat_minor": 0,
  "metadata": {
    "colab": {
      "provenance": [],
      "authorship_tag": "ABX9TyOT2csc8SA6toO761FtwZ6+",
      "include_colab_link": true
    },
    "kernelspec": {
      "name": "python3",
      "display_name": "Python 3"
    },
    "language_info": {
      "name": "python"
    }
  },
  "cells": [
    {
      "cell_type": "markdown",
      "metadata": {
        "id": "view-in-github",
        "colab_type": "text"
      },
      "source": [
        "<a href=\"https://colab.research.google.com/github/gyeongdong13/Study/blob/main/%EC%9D%B8%EA%B3%B5%EC%8B%A0%EA%B2%BD%EB%A7%9D(ANN)_MNIST.ipynb\" target=\"_parent\"><img src=\"https://colab.research.google.com/assets/colab-badge.svg\" alt=\"Open In Colab\"/></a>"
      ]
    },
    {
      "cell_type": "markdown",
      "source": [
        "keras 패키지를 활용한 인공신경망 구현 실습"
      ],
      "metadata": {
        "id": "uU4IHwkNvkPw"
      }
    },
    {
      "cell_type": "code",
      "source": [
        "import tensorflow as tf          #딥러닝 패키지\n",
        "import numpy as np               #배열계산 패키지\n",
        "import matplotlib.pyplot as plt  #시각화 패키지"
      ],
      "metadata": {
        "id": "JlFM0tDFvlaH"
      },
      "execution_count": null,
      "outputs": []
    },
    {
      "cell_type": "markdown",
      "source": [
        "1. MNIST Data 불러오기"
      ],
      "metadata": {
        "id": "Y7ZfFI7qvs6-"
      }
    },
    {
      "cell_type": "code",
      "source": [
        "# 전체 6만개 데이터 중, 5만개는 학습 데이터용, 1만개는 테스트 데이터용으로 분리\n",
        "# image size는 28x28의 grayscale 2차원 데이터\n",
        "\n",
        "from keras.datasets import mnist\n",
        "\n",
        "(train_images, train_labels), (test_images, test_labels) = mnist.load_data()\n",
        "\n",
        "print(\"train dataset shape:\", train_images.shape, train_labels.shape)\n",
        "print(\"test dataset shape:\", test_images.shape, test_labels.shape)"
      ],
      "metadata": {
        "colab": {
          "base_uri": "https://localhost:8080/"
        },
        "id": "qqb3d1bHvoAy",
        "outputId": "4938345a-ad58-4f88-bf80-c6d288d01a16"
      },
      "execution_count": null,
      "outputs": [
        {
          "output_type": "stream",
          "name": "stdout",
          "text": [
            "Downloading data from https://storage.googleapis.com/tensorflow/tf-keras-datasets/mnist.npz\n",
            "11490434/11490434 [==============================] - 0s 0us/step\n",
            "train dataset shape: (60000, 28, 28) (60000,)\n",
            "test dataset shape: (10000, 28, 28) (10000,)\n"
          ]
        }
      ]
    },
    {
      "cell_type": "code",
      "source": [
        "train_images.shape, train_labels.shape\n",
        "\n",
        "# numpy 배열, 3차원, 이미지개수 : 60,000장, 가로 28, 세로 28"
      ],
      "metadata": {
        "colab": {
          "base_uri": "https://localhost:8080/"
        },
        "id": "e2bGWHkhvtge",
        "outputId": "e8021c95-628d-4de0-8705-4d11cfbfea7b"
      },
      "execution_count": null,
      "outputs": [
        {
          "output_type": "execute_result",
          "data": {
            "text/plain": [
              "((60000, 28, 28), (60000,))"
            ]
          },
          "metadata": {},
          "execution_count": 4
        }
      ]
    },
    {
      "cell_type": "code",
      "source": [
        "train_images[0].shape # 첫번째 이미지에 대한 정보"
      ],
      "metadata": {
        "colab": {
          "base_uri": "https://localhost:8080/"
        },
        "id": "WtDxSg2Iw2rb",
        "outputId": "ec845b12-9901-45f6-c017-928fd2297909"
      },
      "execution_count": null,
      "outputs": [
        {
          "output_type": "execute_result",
          "data": {
            "text/plain": [
              "(28, 28)"
            ]
          },
          "metadata": {},
          "execution_count": 8
        }
      ]
    },
    {
      "cell_type": "markdown",
      "source": [
        "2. MNIST Data 시각화"
      ],
      "metadata": {
        "id": "o07in93LwMiR"
      }
    },
    {
      "cell_type": "code",
      "source": [
        "# 2차원 배열을 흰색과 검은색으로 표현하여 시각화할 수 있음\n",
        "\n",
        "plt.imshow(train_images[0], cmap='gray')\n",
        "# plt.title(train_labels[0], size=20)"
      ],
      "metadata": {
        "colab": {
          "base_uri": "https://localhost:8080/",
          "height": 448
        },
        "id": "GwozrTqrwDwM",
        "outputId": "ab35c171-14c3-4650-8548-d171ea6e745b"
      },
      "execution_count": null,
      "outputs": [
        {
          "output_type": "execute_result",
          "data": {
            "text/plain": [
              "<matplotlib.image.AxesImage at 0x7f20b0bb29b0>"
            ]
          },
          "metadata": {},
          "execution_count": 9
        },
        {
          "output_type": "display_data",
          "data": {
            "text/plain": [
              "<Figure size 640x480 with 1 Axes>"
            ],
            "image/png": "[encoded data removed]"
          },
          "metadata": {}
        }
      ]
    },
    {
      "cell_type": "code",
      "source": [
        "# 여러개의 그림을 한번에 표현하기\n",
        "\n",
        "ncols = 5\n",
        "\n",
        "figure, axs = plt.subplots(figsize=(10, 5), nrows=1, ncols=ncols) # subplots함수는 여러개의 그림을 한번에 표현하도록 도와줌\n",
        "\n",
        "for i in range(ncols):\n",
        "    axs[i].imshow(train_images[:5][i], cmap='gray')"
      ],
      "metadata": {
        "colab": {
          "base_uri": "https://localhost:8080/",
          "height": 197
        },
        "id": "ZxAaUQ9cw_83",
        "outputId": "264f7db5-4d74-467d-cc89-5a84e2d3921c"
      },
      "execution_count": null,
      "outputs": [
        {
          "output_type": "display_data",
          "data": {
            "text/plain": [
              "<Figure size 1000x500 with 5 Axes>"
            ],
            "image/png": "[encoded data removed]"
          },
          "metadata": {}
        }
      ]
    },
    {
      "cell_type": "markdown",
      "source": [
        "인공신경망을 사용하여 자동으로 이미지 분류"
      ],
      "metadata": {
        "id": "CWBbpx0wxgrC"
      }
    },
    {
      "cell_type": "markdown",
      "source": [
        "3. MNIST 데이터 전처리 수행"
      ],
      "metadata": {
        "id": "Vg3_VLjTxk5Y"
      }
    },
    {
      "cell_type": "code",
      "source": [
        "# MNIST 데이터의 0~255 픽셀 값을 0에서 1 사이값으로 scale하고, 데이터 타입을 float32로 변경해준다.\n",
        "\n",
        "# Keras 패키지에서는 입력데이터가 float 이어야 하기 때문.\n",
        "# 또한, 일반적으로 딥러닝은 input 값에 대하여 스케일링 해주어야 한다.\n",
        "\n",
        "# 이미지 값 변환\n",
        "train_images_2 = np.array(train_images/255.0, dtype=np.float32) # 0에서 1사이의 값으로 변환(최댓값이 255이므로)\n",
        "test_images_2 = np.array(test_images/255.0, dtype=np.float32)\n",
        "# 딥러닝은 워낙 깊이 계산하기 때문에 보통 0~1사이로 변환해서 컴퓨터 계산속도 올려줌\n",
        "\n",
        "# 라벨 값 변환\n",
        "train_labels_2 = np.array(train_labels, dtype=np.float32)\n",
        "test_labels_2 = np.array(test_labels, dtype=np.float32)\n",
        "\n",
        "print(train_images_2.shape, train_labels_2.shape)\n",
        "print(test_images_2.shape, test_labels_2.shape)"
      ],
      "metadata": {
        "colab": {
          "base_uri": "https://localhost:8080/"
        },
        "id": "bXqAV5dbxi1Z",
        "outputId": "6f007f8f-742d-43b1-f3cd-bd6e66bbc7b6"
      },
      "execution_count": null,
      "outputs": [
        {
          "output_type": "stream",
          "name": "stdout",
          "text": [
            "(60000, 28, 28) (60000,)\n",
            "(10000, 28, 28) (10000,)\n"
          ]
        }
      ]
    },
    {
      "cell_type": "code",
      "source": [
        "train_labels_2[0] # 첫번째 사진의 라벨이 5\n",
        "# 이진 분류가 아닌 0~9까지 다중분류를 해야함"
      ],
      "metadata": {
        "colab": {
          "base_uri": "https://localhost:8080/"
        },
        "id": "EPgX3dGoy-cj",
        "outputId": "146827f4-d871-4b5e-80b8-880b528ae7fc"
      },
      "execution_count": null,
      "outputs": [
        {
          "output_type": "execute_result",
          "data": {
            "text/plain": [
              "5.0"
            ]
          },
          "metadata": {},
          "execution_count": 12
        }
      ]
    },
    {
      "cell_type": "code",
      "source": [
        "# 라벨값을 원핫인코딩(One-Hot-Encoding) 해주어야 함\n",
        "# 0~9까지 정수값이 들어가 있으면 원핫인코딩\n",
        "\n",
        "from tensorflow.keras.utils import to_categorical\n",
        "\n",
        "train_labels_2 = to_categorical(train_labels_2)\n",
        "test_labels_2 = to_categorical(test_labels_2)"
      ],
      "metadata": {
        "id": "Kl3bjE0JzhS2"
      },
      "execution_count": null,
      "outputs": []
    },
    {
      "cell_type": "code",
      "source": [
        "train_labels_2[0] # 위에서는 5라는 숫자가 나왔지만 원핫인코딩 결과 바뀐 것으로 나옴"
      ],
      "metadata": {
        "colab": {
          "base_uri": "https://localhost:8080/"
        },
        "id": "TC-TZ504z2R6",
        "outputId": "6d0323e5-726f-4c1f-b034-5a132a91d38c"
      },
      "execution_count": null,
      "outputs": [
        {
          "output_type": "execute_result",
          "data": {
            "text/plain": [
              "array([0., 0., 0., 0., 0., 1., 0., 0., 0., 0.], dtype=float32)"
            ]
          },
          "metadata": {},
          "execution_count": 14
        }
      ]
    },
    {
      "cell_type": "code",
      "source": [
        "# 학습데이터를 학습데이터와 검증데이터로 분리\n",
        "from sklearn.model_selection import train_test_split\n",
        "train_x, val_x, train_y, val_y = train_test_split(train_images_2, train_labels_2, test_size=0.3, random_state=1)\n",
        "\n",
        "train_x.shape, val_x.shape, train_y.shape, val_y.shape"
      ],
      "metadata": {
        "colab": {
          "base_uri": "https://localhost:8080/"
        },
        "id": "Bx3B4XYSz5pz",
        "outputId": "cefebe79-23c4-4b4a-ecad-7783dcf81138"
      },
      "execution_count": null,
      "outputs": [
        {
          "output_type": "execute_result",
          "data": {
            "text/plain": [
              "((42000, 28, 28), (18000, 28, 28), (42000, 10), (18000, 10))"
            ]
          },
          "metadata": {},
          "execution_count": 15
        }
      ]
    },
    {
      "cell_type": "markdown",
      "source": [
        "4. 인공신경망 모델의 구조 설계"
      ],
      "metadata": {
        "id": "LLTLWAKK0_e6"
      }
    },
    {
      "cell_type": "code",
      "source": [
        "from tensorflow.keras.layers import Dense      # 완전연결층 => 가장 기본적인 딥러닝 층\n",
        "from tensorflow.keras.layers import Flatten    # 평탄화층   => ANN 구조에 맞게 변환하기 위한 층(2차원데이터를 1차원데이터로 평탄화)\n",
        "from tensorflow.keras.models import Sequential # Keras 패키지의 Model 생성 함수"
      ],
      "metadata": {
        "id": "GU_Tf2-40VjQ"
      },
      "execution_count": null,
      "outputs": []
    },
    {
      "cell_type": "code",
      "source": [
        "ANN_model = Sequential() # 인공신경망 모델 선언\n",
        "ANN_model.add(Flatten(input_shape = ([28, 28]))) #MNIST 이미지 구조를 평탄화 : (28 * 28) -> (784), 이차원 데이터를 일차원 데이터로 변환\n",
        "ANN_model.add(Dense(20, activation = 'relu'))    #첫번째 은닉층 노드의 수를 20개로 설정, 활성화함수는 relu 사용\n",
        "ANN_model.add(Dense(20, activation = 'relu'))    #두번째 은닉층 노드의 수를 20개로 설정, 활성화함수는 relu 사용\n",
        "ANN_model.add(Dense(10, activation = 'softmax')) #출력층 노드의 수는 Y의 카테고리 수와 맞추어준다 !\n",
        "# 다중분류이므로 무조건 activation은 softmax로 사용"
      ],
      "metadata": {
        "id": "3YJunxEt1fVs"
      },
      "execution_count": null,
      "outputs": []
    },
    {
      "cell_type": "markdown",
      "source": [
        "5. 인공신경망 모델의 손실함수(Loss)와 최적화함수(Optimizer) 설정"
      ],
      "metadata": {
        "id": "BNo_5Jj43TM2"
      }
    },
    {
      "cell_type": "code",
      "source": [
        "# 최적화함수는 Adam(오차를 최소화하는 함수)\n",
        "# 손실함수는 CategoricalCrossentropy #이진분류인 경우에는 BinaryCrossentropy를 사용하여야 함\n",
        "# 정확도 계산 방식은 Accuracy를 사용 # Accuracy외에도 precision, F1_score 등 설정 가능\n",
        "\n",
        "from tensorflow.keras.optimizers import Adam # 그레디언트 부스팅을 좀 더 고도화\n",
        "from tensorflow.keras.losses import CategoricalCrossentropy\n",
        "from tensorflow.keras.metrics import Accuracy"
      ],
      "metadata": {
        "id": "uOilxmz33RTj"
      },
      "execution_count": null,
      "outputs": []
    },
    {
      "cell_type": "code",
      "source": [
        "# ANN 모델에 손실함수와 최적화함수를 설정하는 방법은 comile 함수를 이용하면 된다.\n",
        "\n",
        "ANN_model.compile(optimizer=Adam(), loss='categorical_crossentropy', metrics=['accuracy'])\n",
        "# 다중분류 오차 계산 함수는 categorical_crossentropy"
      ],
      "metadata": {
        "id": "ZIISnBz838Lr"
      },
      "execution_count": null,
      "outputs": []
    },
    {
      "cell_type": "code",
      "source": [
        "ANN_model.summary()\n",
        "\n",
        "# 독립변수가 16330개라는 의미 => 계산이 굉장히 오래걸림"
      ],
      "metadata": {
        "colab": {
          "base_uri": "https://localhost:8080/"
        },
        "id": "nrXamfHZ4clT",
        "outputId": "15648675-7d48-4d5a-c4d1-c34a0673f446"
      },
      "execution_count": null,
      "outputs": [
        {
          "output_type": "stream",
          "name": "stdout",
          "text": [
            "Model: \"sequential\"\n",
            "_________________________________________________________________\n",
            " Layer (type)                Output Shape              Param #   \n",
            "=================================================================\n",
            " flatten (Flatten)           (None, 784)               0         \n",
            "                                                                 \n",
            " dense (Dense)               (None, 20)                15700     \n",
            "                                                                 \n",
            " dense_1 (Dense)             (None, 20)                420       \n",
            "                                                                 \n",
            " dense_2 (Dense)             (None, 10)                210       \n",
            "                                                                 \n",
            "=================================================================\n",
            "Total params: 16,330\n",
            "Trainable params: 16,330\n",
            "Non-trainable params: 0\n",
            "_________________________________________________________________\n"
          ]
        }
      ]
    },
    {
      "cell_type": "markdown",
      "source": [
        "6. 인공신경망 모델 학습 수행"
      ],
      "metadata": {
        "id": "sjakj9Qm4sf0"
      }
    },
    {
      "cell_type": "code",
      "source": [
        "epochs = 5\n",
        "batch_size = 32 #주로 2의 배수로 선정함 -> 속도 향상\n",
        "\n",
        "history = ANN_model.fit(x=train_x, y=train_y, batch_size=batch_size, validation_data=(val_x, val_y),\n",
        "                    epochs=epochs, verbose=1)"
      ],
      "metadata": {
        "colab": {
          "base_uri": "https://localhost:8080/"
        },
        "id": "2GM41cVq4uF7",
        "outputId": "962ef74a-5764-46b0-e192-6573b2b41cec"
      },
      "execution_count": null,
      "outputs": [
        {
          "output_type": "stream",
          "name": "stdout",
          "text": [
            "Epoch 1/5\n",
            "1313/1313 [==============================] - 7s 4ms/step - loss: 0.4543 - accuracy: 0.8682 - val_loss: 0.2711 - val_accuracy: 0.9236\n",
            "Epoch 2/5\n",
            "1313/1313 [==============================] - 4s 3ms/step - loss: 0.2351 - accuracy: 0.9314 - val_loss: 0.2360 - val_accuracy: 0.9335\n",
            "Epoch 3/5\n",
            "1313/1313 [==============================] - 4s 3ms/step - loss: 0.1978 - accuracy: 0.9420 - val_loss: 0.2174 - val_accuracy: 0.9396\n",
            "Epoch 4/5\n",
            "1313/1313 [==============================] - 4s 3ms/step - loss: 0.1741 - accuracy: 0.9493 - val_loss: 0.1972 - val_accuracy: 0.9445\n",
            "Epoch 5/5\n",
            "1313/1313 [==============================] - 4s 3ms/step - loss: 0.1578 - accuracy: 0.9536 - val_loss: 0.1926 - val_accuracy: 0.9464\n"
          ]
        }
      ]
    },
    {
      "cell_type": "markdown",
      "source": [
        "7. 평가 데이터를 통한 예측 및 결과확인"
      ],
      "metadata": {
        "id": "mv9dpFcJ6pdP"
      }
    },
    {
      "cell_type": "code",
      "source": [
        "# 테스트 데이터 세트로 모델 성능 검증\n",
        "# 딥러닝에서는 accuracy를 계산하는데 model.evaluate를 model.score 대신 사용함\n",
        "# 첫번째 결과값은 loss, 두번째 결과값은 accuracy를 의미함\n",
        "\n",
        "ANN_model.evaluate(test_images_2, test_labels_2, verbose=0)"
      ],
      "metadata": {
        "colab": {
          "base_uri": "https://localhost:8080/"
        },
        "id": "eyVA9eM46qAm",
        "outputId": "1e9839cb-1751-40a8-8d6a-c52892de2f76"
      },
      "execution_count": null,
      "outputs": [
        {
          "output_type": "execute_result",
          "data": {
            "text/plain": [
              "[0.17100386321544647, 0.9516000151634216]"
            ]
          },
          "metadata": {},
          "execution_count": 24
        }
      ]
    },
    {
      "cell_type": "code",
      "source": [
        "#예측한 값과 실제값 눈으로 비교\n",
        "\n",
        "pred_y=ANN_model.predict(test_images_2) #.argmax(axis=1)\n",
        "print(pred_y[:10])\n",
        "print(test_labels[:10])"
      ],
      "metadata": {
        "colab": {
          "base_uri": "https://localhost:8080/"
        },
        "id": "1udaWVAi6ukv",
        "outputId": "775ea410-5e2e-4053-8dd1-5aa0e363f8b9"
      },
      "execution_count": null,
      "outputs": [
        {
          "output_type": "stream",
          "name": "stdout",
          "text": [
            "313/313 [==============================] - 1s 2ms/step\n",
            "[[2.66951190e-08 4.48693314e-08 9.48243323e-05 2.95548793e-03\n",
            "  8.17437840e-10 6.03908393e-06 1.91139769e-12 9.96936202e-01\n",
            "  7.46387627e-08 7.25676227e-06]\n",
            " [7.01133613e-05 2.96824310e-05 9.96745706e-01 2.89911078e-03\n",
            "  1.06968989e-09 7.73445299e-06 2.06238212e-04 7.89938226e-10\n",
            "  4.13246526e-05 5.78819526e-09]\n",
            " [4.31273074e-05 9.85563815e-01 4.26910538e-03 1.64539856e-03\n",
            "  3.21949017e-04 1.11897127e-04 7.06985709e-04 5.92198083e-03\n",
            "  1.35216874e-03 6.35846081e-05]\n",
            " [9.99849558e-01 4.41088138e-10 2.46723175e-05 9.08041557e-07\n",
            "  5.27117072e-06 4.71390958e-05 1.27044850e-05 4.55581403e-06\n",
            "  1.59553019e-06 5.36724947e-05]\n",
            " [3.82450889e-05 3.44664706e-08 5.43474627e-04 1.93816777e-06\n",
            "  9.96194541e-01 4.98154950e-05 8.73072640e-05 2.17969980e-04\n",
            "  9.49410241e-05 2.77158851e-03]\n",
            " [7.21557035e-06 9.91584480e-01 2.63925176e-04 2.15681808e-04\n",
            "  4.36916489e-05 1.00592854e-06 1.59958836e-05 7.52846245e-03\n",
            "  3.32686177e-04 6.64548224e-06]\n",
            " [3.55287330e-06 2.93671945e-07 6.93138844e-08 4.38051120e-06\n",
            "  9.92422760e-01 3.07173410e-04 1.58065041e-06 5.30882462e-05\n",
            "  5.23729157e-03 1.96975050e-03]\n",
            " [7.38781227e-06 2.07811478e-03 2.90515693e-03 1.01788796e-03\n",
            "  5.88386208e-02 3.23020766e-04 3.29111062e-04 1.31695531e-03\n",
            "  2.09940103e-04 9.32973742e-01]\n",
            " [2.15534077e-04 7.66029373e-08 4.36733826e-05 6.97321711e-09\n",
            "  2.15712376e-02 1.42126996e-02 9.63826060e-01 1.62582822e-07\n",
            "  1.23792342e-05 1.18147305e-04]\n",
            " [1.10301903e-06 5.19767666e-11 4.21800550e-08 3.60562240e-06\n",
            "  4.10452206e-03 1.74888172e-07 4.61063010e-09 7.68090831e-03\n",
            "  5.50425553e-04 9.87659097e-01]]\n",
            "[7 2 1 0 4 1 4 9 5 9]\n"
          ]
        }
      ]
    },
    {
      "cell_type": "code",
      "source": [
        "#예측한 값과 실제값 눈으로 비교\n",
        "\n",
        "pred_y=ANN_model.predict(test_images_2).argmax(axis=1) # Dense가 10개이므로 10개의 결과가 나오므로 그 10개의 예측값 중 가장 확률이 큰 값으로 예측하겠다는 의미\n",
        "print(pred_y[:10])\n",
        "print(test_labels[:10])"
      ],
      "metadata": {
        "colab": {
          "base_uri": "https://localhost:8080/"
        },
        "id": "ICm_ypCX7SZ9",
        "outputId": "edbc0782-87c5-4396-8e70-a788cfd6e31e"
      },
      "execution_count": null,
      "outputs": [
        {
          "output_type": "stream",
          "name": "stdout",
          "text": [
            "313/313 [==============================] - 1s 2ms/step\n",
            "[7 2 1 0 4 1 4 9 6 9]\n",
            "[7 2 1 0 4 1 4 9 5 9]\n"
          ]
        }
      ]
    },
    {
      "cell_type": "code",
      "source": [
        "plt.imshow(train_images[1], cmap='gray')"
      ],
      "metadata": {
        "colab": {
          "base_uri": "https://localhost:8080/",
          "height": 448
        },
        "id": "Td0f8ZFq7qlt",
        "outputId": "3dc3d01b-05f3-45f2-d1ca-07b527174117"
      },
      "execution_count": null,
      "outputs": [
        {
          "output_type": "execute_result",
          "data": {
            "text/plain": [
              "<matplotlib.image.AxesImage at 0x7f209b5d35b0>"
            ]
          },
          "metadata": {},
          "execution_count": 28
        },
        {
          "output_type": "display_data",
          "data": {
            "text/plain": [
              "<Figure size 640x480 with 1 Axes>"
            ],
            "image/png": "[encoded data removed]"
          },
          "metadata": {}
        }
      ]
    }
  ]
}
