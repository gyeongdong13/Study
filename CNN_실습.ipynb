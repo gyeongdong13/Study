{
  "nbformat": 4,
  "nbformat_minor": 0,
  "metadata": {
    "colab": {
      "provenance": [],
      "authorship_tag": "ABX9TyMQqR1hgeCoH3fbmDZmUxES",
      "include_colab_link": true
    },
    "kernelspec": {
      "name": "python3",
      "display_name": "Python 3"
    },
    "language_info": {
      "name": "python"
    }
  },
  "cells": [
    {
      "cell_type": "markdown",
      "metadata": {
        "id": "view-in-github",
        "colab_type": "text"
      },
      "source": [
        "<a href=\"https://colab.research.google.com/github/gyeongdong13/Study/blob/main/CNN_%EC%8B%A4%EC%8A%B5.ipynb\" target=\"_parent\"><img src=\"https://colab.research.google.com/assets/colab-badge.svg\" alt=\"Open In Colab\"/></a>"
      ]
    },
    {
      "cell_type": "markdown",
      "source": [
        "keras 패키지를 활용한 CNN 구현 실습"
      ],
      "metadata": {
        "id": "7aA9iJdC1JlM"
      }
    },
    {
      "cell_type": "code",
      "execution_count": null,
      "metadata": {
        "id": "R7zp-gf11Cre"
      },
      "outputs": [],
      "source": [
        "import tensorflow as tf          #딥러닝 패키지\n",
        "import numpy as np               #배열계산 패키지\n",
        "import matplotlib.pyplot as plt  #시각화 패키지"
      ]
    },
    {
      "cell_type": "markdown",
      "source": [
        "1. MNIST Data 불러오기"
      ],
      "metadata": {
        "id": "akiRnBut1Nkh"
      }
    },
    {
      "cell_type": "code",
      "source": [
        "from keras.datasets import mnist\n",
        "\n",
        "(train_images, train_labels), (test_images, test_labels) = mnist.load_data()\n",
        "\n",
        "print(\"train dataset shape:\", train_images.shape, train_labels.shape)\n",
        "print(\"test dataset shape:\", test_images.shape, test_labels.shape)"
      ],
      "metadata": {
        "colab": {
          "base_uri": "https://localhost:8080/"
        },
        "id": "QjhS4MB61KFA",
        "outputId": "7ef27ad4-3319-441b-c160-a41d7c6dd56a"
      },
      "execution_count": null,
      "outputs": [
        {
          "output_type": "stream",
          "name": "stdout",
          "text": [
            "Downloading data from https://storage.googleapis.com/tensorflow/tf-keras-datasets/mnist.npz\n",
            "11490434/11490434 [==============================] - 0s 0us/step\n",
            "train dataset shape: (60000, 28, 28) (60000,)\n",
            "test dataset shape: (10000, 28, 28) (10000,)\n"
          ]
        }
      ]
    },
    {
      "cell_type": "markdown",
      "source": [
        "2. MNIST 데이터 전처리 수행"
      ],
      "metadata": {
        "id": "0tD5I93t1T0V"
      }
    },
    {
      "cell_type": "code",
      "source": [
        "# MNIST 데이터의 0~255 픽셀 값을 0에서 1 사이값으로 scale하고, 데이터 타입을 float32로 변경해준다.\n",
        "\n",
        "# Keras 패키지에서는 입력데이터가 float 이어야 하기 때문.\n",
        "# 또한, 일반적으로 딥러닝은 input 값에 대하여 스케일리 해주어야 한다.\n",
        "\n",
        "# 이미지 값 변환\n",
        "train_images = np.array(train_images/255.0, dtype=np.float32) # 이미지의 픽셀을 줄여주기 위해(라벨에서는 나누기 255 X)\n",
        "test_images = np.array(test_images/255.0, dtype=np.float32)\n",
        "\n",
        "# 라벨 값 변환\n",
        "train_labels = np.array(train_labels, dtype=np.float32)\n",
        "test_labels = np.array(test_labels, dtype=np.float32)\n",
        "\n",
        "print(train_images.shape, train_labels.shape)\n",
        "print(test_images.shape, test_labels.shape)\n",
        "\n",
        "# ANN은 입력층에 1차원 CNN은 입력층에 2차원으로 된다는 차이점"
      ],
      "metadata": {
        "colab": {
          "base_uri": "https://localhost:8080/"
        },
        "id": "fNQjrwpO1RUg",
        "outputId": "4c47f3c2-f365-4f51-d89d-0aaabb3897b5"
      },
      "execution_count": null,
      "outputs": [
        {
          "output_type": "stream",
          "name": "stdout",
          "text": [
            "(60000, 28, 28) (60000,)\n",
            "(10000, 28, 28) (10000,)\n"
          ]
        }
      ]
    },
    {
      "cell_type": "code",
      "source": [
        "# 라벨값을 원핫인코딩(One-Hot-Encoding) 해주어야 함\n",
        "\n",
        "from tensorflow.keras.utils import to_categorical\n",
        "\n",
        "train_labels_2 = to_categorical(train_labels)\n",
        "test_labels_2 = to_categorical(test_labels)\n",
        "\n",
        "train_labels_2"
      ],
      "metadata": {
        "colab": {
          "base_uri": "https://localhost:8080/"
        },
        "id": "z7T-FUb71pYe",
        "outputId": "7f697ac9-33e8-4c76-d67c-75b780f30827"
      },
      "execution_count": null,
      "outputs": [
        {
          "output_type": "execute_result",
          "data": {
            "text/plain": [
              "array([[0., 0., 0., ..., 0., 0., 0.],\n",
              "       [1., 0., 0., ..., 0., 0., 0.],\n",
              "       [0., 0., 0., ..., 0., 0., 0.],\n",
              "       ...,\n",
              "       [0., 0., 0., ..., 0., 0., 0.],\n",
              "       [0., 0., 0., ..., 0., 0., 0.],\n",
              "       [0., 0., 0., ..., 0., 1., 0.]], dtype=float32)"
            ]
          },
          "metadata": {},
          "execution_count": 4
        }
      ]
    },
    {
      "cell_type": "code",
      "source": [
        "# 학습데이터를 학습데이터와 검증데이터로 분리\n",
        "from sklearn.model_selection import train_test_split\n",
        "train_x, val_x, train_y, val_y = train_test_split(train_images, train_labels_2, test_size=0.3, random_state=1)\n",
        "\n",
        "train_x.shape, val_x.shape, train_y.shape, val_y.shape"
      ],
      "metadata": {
        "colab": {
          "base_uri": "https://localhost:8080/"
        },
        "id": "BH3wVXFR18D3",
        "outputId": "32fa724e-5362-41b0-b115-92ff6580dae7"
      },
      "execution_count": null,
      "outputs": [
        {
          "output_type": "execute_result",
          "data": {
            "text/plain": [
              "((42000, 28, 28), (18000, 28, 28), (42000, 10), (18000, 10))"
            ]
          },
          "metadata": {},
          "execution_count": 5
        }
      ]
    },
    {
      "cell_type": "markdown",
      "source": [
        "3. CNN 모델의 구조 설계"
      ],
      "metadata": {
        "id": "Hg2O7wdW2hsC"
      }
    },
    {
      "cell_type": "code",
      "source": [
        "# 필요 패키지 불러오기\n",
        "\n",
        "from tensorflow.keras.layers import Input, Conv2D, MaxPooling2D\n",
        "from tensorflow.keras.layers import Dense, Flatten\n",
        "from tensorflow.keras.models import Model"
      ],
      "metadata": {
        "id": "dRKGA-Km2gm-"
      },
      "execution_count": null,
      "outputs": []
    },
    {
      "cell_type": "code",
      "source": [
        "# 딥러닝 설계하는 두가지 방법(Keras 패키지)\n",
        "\n",
        "# 순서대로 쌓는 방법 : Sequential() -> model.add()\n",
        "\n",
        "# 기능형 방법 : 선언방식 -> input() -> CNN은 대부분 기능형"
      ],
      "metadata": {
        "id": "z8Ohyud82_bN"
      },
      "execution_count": null,
      "outputs": []
    },
    {
      "cell_type": "code",
      "source": [
        "# Keras Functional Coding 방법\n",
        "# 계속 뒤에 이어주면서 작성할 수 있다,\n",
        "\n",
        "# 기능형 방법\n",
        "# filters : 특징추출 맵 32개 생성\n",
        "# 커널 사이즈 : 필터 크기\n",
        "# 스트라이드 : 몇칸씩 이동할지 선택\n",
        "# 패딩 : \"same\" 특징추출이 끝났을 때 동일한 사이즈로 결과가 나오게끔 설정\n",
        "# 활성화 함수 : relu\n",
        "\n",
        "input_layer = Input(shape=(28, 28, 1)) # shape = 가로, 세로, 1(흑백을 의미)\n",
        "conv_layer_1 = Conv2D(filters=32, kernel_size=3, strides=1, padding='same', activation='relu')(input_layer) # kernel_size는 3이면 3*3을 의미\n",
        "conv_layer_1 = Conv2D(filters=64, kernel_size=3, activation='relu')(conv_layer_1)\n",
        "pooling_layer_1 = MaxPooling2D(2)(conv_layer_1) # 맥스풀링 2 : 크기를 2배만큼 압축해라\n",
        "\n",
        "# 3차원으로 되어있는 Feature map 결과를 Fully Connected 연결하기 위해서는 Flatten()을 적용해야함.\n",
        "FC_layer = Flatten()(pooling_layer_1) # 마지막 특징추출을 한 줄로 정리하는 레이어\n",
        "FC_layer = Dense(100, activation='relu')(FC_layer)\n",
        "output = Dense(10, activation='softmax')(FC_layer)\n",
        "\n",
        "model = Model(inputs=input_layer, outputs=output) # 기능형 방법 마무리(CNN은 여기까지 해줘야 됨)"
      ],
      "metadata": {
        "id": "a72YZVZP2n75"
      },
      "execution_count": null,
      "outputs": []
    },
    {
      "cell_type": "code",
      "source": [
        "model.summary()"
      ],
      "metadata": {
        "colab": {
          "base_uri": "https://localhost:8080/"
        },
        "id": "op4f0NB97ie3",
        "outputId": "58c38717-3a7b-4ecf-d171-ea99749aface"
      },
      "execution_count": null,
      "outputs": [
        {
          "output_type": "stream",
          "name": "stdout",
          "text": [
            "Model: \"model\"\n",
            "_________________________________________________________________\n",
            " Layer (type)                Output Shape              Param #   \n",
            "=================================================================\n",
            " input_1 (InputLayer)        [(None, 28, 28, 1)]       0         \n",
            "                                                                 \n",
            " conv2d (Conv2D)             (None, 28, 28, 32)        320       \n",
            "                                                                 \n",
            " conv2d_1 (Conv2D)           (None, 26, 26, 64)        18496     \n",
            "                                                                 \n",
            " max_pooling2d (MaxPooling2D  (None, 13, 13, 64)       0         \n",
            " )                                                               \n",
            "                                                                 \n",
            " flatten (Flatten)           (None, 10816)             0         \n",
            "                                                                 \n",
            " dense (Dense)               (None, 100)               1081700   \n",
            "                                                                 \n",
            " dense_1 (Dense)             (None, 10)                1010      \n",
            "                                                                 \n",
            "=================================================================\n",
            "Total params: 1,101,526\n",
            "Trainable params: 1,101,526\n",
            "Non-trainable params: 0\n",
            "_________________________________________________________________\n"
          ]
        }
      ]
    },
    {
      "cell_type": "markdown",
      "source": [
        "4. CNN 모델의 손실함수(Loss)와 최적화함수(Optimizer) 설정"
      ],
      "metadata": {
        "id": "bQ0H8iHt7pD_"
      }
    },
    {
      "cell_type": "code",
      "source": [
        "from tensorflow.keras.optimizers import Adam\n",
        "from tensorflow.keras.losses import CategoricalCrossentropy\n",
        "from tensorflow.keras.metrics import Accuracy\n",
        "\n",
        "model.compile(optimizer=Adam(), loss='categorical_crossentropy', metrics=['accuracy'])"
      ],
      "metadata": {
        "id": "NZHBqr0s7lVE"
      },
      "execution_count": null,
      "outputs": []
    },
    {
      "cell_type": "markdown",
      "source": [
        "5. CNN 모델 학습 수행 및 성능평가"
      ],
      "metadata": {
        "id": "DfvRiH0k7vC0"
      }
    },
    {
      "cell_type": "code",
      "source": [
        "epochs = 2\n",
        "batch_size = 256 #주로 2의 배수로 선정함\n",
        "\n",
        "history = model.fit(x=train_x, y=train_y, batch_size=batch_size, validation_data=(val_x, val_y),\n",
        "                    epochs=epochs, verbose=1)"
      ],
      "metadata": {
        "colab": {
          "base_uri": "https://localhost:8080/"
        },
        "id": "5aoAfjKU7trg",
        "outputId": "b28b7c4f-a56f-4822-ea06-77adeacda44e"
      },
      "execution_count": null,
      "outputs": [
        {
          "output_type": "stream",
          "name": "stdout",
          "text": [
            "Epoch 1/2\n",
            "165/165 [==============================] - 146s 887ms/step - loss: 0.0560 - accuracy: 0.9832 - val_loss: 0.0645 - val_accuracy: 0.9798\n",
            "Epoch 2/2\n",
            "165/165 [==============================] - 141s 856ms/step - loss: 0.0370 - accuracy: 0.9889 - val_loss: 0.0667 - val_accuracy: 0.9799\n"
          ]
        }
      ]
    },
    {
      "cell_type": "code",
      "source": [
        "# 테스트 데이터 세트로 모델 성능 검증\n",
        "# 딥러닝에서는 accuracy를 계산하는데 model.evaluate를 model.score 대신 사용함\n",
        "# 첫번째 결과값은 loss, 두번째 결과값은 accuracy를 의미함\n",
        "\n",
        "model.evaluate(test_images, test_labels_2, verbose=0)"
      ],
      "metadata": {
        "id": "UGFK2jxv8ima"
      },
      "execution_count": null,
      "outputs": []
    },
    {
      "cell_type": "code",
      "source": [
        "# 시각화를 통하여 학습이 잘 이루어지고 있는지 확인\n",
        "\n",
        "import matplotlib.pyplot as plt\n",
        "\n",
        "def show_history(history):\n",
        "    plt.plot(history.history['accuracy'], label='train')\n",
        "    plt.plot(history.history['val_accuracy'], label='valid')\n",
        "    plt.legend()\n",
        "\n",
        "show_history(history)"
      ],
      "metadata": {
        "id": "P1c7nRElJR4a"
      },
      "execution_count": null,
      "outputs": []
    },
    {
      "cell_type": "markdown",
      "source": [
        "6. Dropout을 적용하여 Fully Connected Layer의 오버피팅 조정"
      ],
      "metadata": {
        "id": "EqycMZHOJYXy"
      }
    },
    {
      "cell_type": "code",
      "source": [
        "# CNN은 일반적으로 Dense Layer보다는 파라미터수 작음\n",
        "# 하지만 많은 Filter 들을 적용하고 이를  Fully Connected Layer로 연결 시 파라미터 수가 늘어남\n",
        "# Flatten() 이후 Dropout을 적용하여 특정 비율로 FC Layer 연결을 누락 적용\n",
        "from tensorflow.keras.layers import Dropout\n",
        "\n",
        "input_tensor = Input(shape=(28, 28, 1))\n",
        "x = Conv2D(filters=32, kernel_size=3, strides=1, padding='same', activation='relu')(input_tensor)\n",
        "x = Conv2D(filters=64, kernel_size=3, activation='relu')(x)\n",
        "x = MaxPooling2D(2)(x)\n",
        "\n",
        "x = Flatten()(x)\n",
        "x = Dropout(rate=0.5)(x)   # 이 부분에 추가\n",
        "x = Dense(100, activation='relu')(x)\n",
        "\n",
        "output = Dense(10, activation='softmax')(x)\n",
        "\n",
        "model = Model(inputs=input_tensor, outputs=output)"
      ],
      "metadata": {
        "id": "eG6-hJJLJZUf"
      },
      "execution_count": null,
      "outputs": []
    },
    {
      "cell_type": "code",
      "source": [
        "model.compile(optimizer=Adam(), loss='categorical_crossentropy', metrics=['accuracy'])"
      ],
      "metadata": {
        "id": "AQDXJFeQJboi"
      },
      "execution_count": null,
      "outputs": []
    },
    {
      "cell_type": "code",
      "source": [
        "epochs = 5\n",
        "batch_size = 128 #주로 2의 배수로 선정함\n",
        "\n",
        "history = model.fit(x=train_x, y=train_y, batch_size=batch_size, validation_data=(val_x, val_y),\n",
        "                    epochs=epochs, verbose=1)\n",
        "\n",
        "model.evaluate(test_images, test_labels_2, verbose=0)"
      ],
      "metadata": {
        "id": "fOtC8UPTJdM8"
      },
      "execution_count": null,
      "outputs": []
    }
  ]
}