{
  "nbformat": 4,
  "nbformat_minor": 0,
  "metadata": {
    "colab": {
      "provenance": [],
      "gpuType": "T4",
      "include_colab_link": true
    },
    "kernelspec": {
      "name": "python3",
      "display_name": "Python 3"
    },
    "language_info": {
      "name": "python"
    },
    "accelerator": "GPU"
  },
  "cells": [
    {
      "cell_type": "markdown",
      "metadata": {
        "id": "view-in-github",
        "colab_type": "text"
      },
      "source": [
        "<a href=\"https://colab.research.google.com/github/gyeongdong13/Study/blob/main/CNN_%EC%82%AC%EC%A0%84%ED%9B%88%EB%A0%A8%EB%AA%A8%EB%8D%B8_CIFAR10_ipynb%EC%9D%98_%EC%82%AC%EB%B3%B8.ipynb\" target=\"_parent\"><img src=\"https://colab.research.google.com/assets/colab-badge.svg\" alt=\"Open In Colab\"/></a>"
      ]
    },
    {
      "cell_type": "code",
      "execution_count": null,
      "metadata": {
        "id": "JOg7kv1wd5le"
      },
      "outputs": [],
      "source": [
        "import numpy as np\n",
        "import pandas as pd"
      ]
    },
    {
      "cell_type": "code",
      "source": [
        "from tensorflow.keras.datasets import cifar10\n",
        "\n",
        "# 전체 6만개 데이터 중, 5만개는 학습 데이터용, 1만개는 테스트 데이터용으로 분리\n",
        "(train_images, train_labels), (test_images, test_labels) = cifar10.load_data()\n",
        "print(train_images.shape, train_labels.shape)\n",
        "print(test_images.shape, test_labels.shape)"
      ],
      "metadata": {
        "colab": {
          "base_uri": "https://localhost:8080/"
        },
        "id": "qlRo5J5Ed9Dr",
        "outputId": "b88b7b08-9ac4-4cfa-d804-cb24d24bd024"
      },
      "execution_count": null,
      "outputs": [
        {
          "output_type": "stream",
          "name": "stdout",
          "text": [
            "Downloading data from https://www.cs.toronto.edu/~kriz/cifar-10-python.tar.gz\n",
            "170498071/170498071 [==============================] - 11s 0us/step\n",
            "(50000, 32, 32, 3) (50000, 1)\n",
            "(10000, 32, 32, 3) (10000, 1)\n"
          ]
        }
      ]
    },
    {
      "cell_type": "code",
      "source": [
        "# 이미지 값 변환\n",
        "train_images_2 = np.array(train_images/255.0, dtype=np.float32)\n",
        "test_images_2 = np.array(test_images/255.0, dtype=np.float32)\n",
        "\n",
        "# 라벨 값 변환\n",
        "train_labels_2 = np.array(train_labels, dtype=np.float32)\n",
        "test_labels_2 = np.array(test_labels, dtype=np.float32)"
      ],
      "metadata": {
        "id": "oa8ynId6d_OC"
      },
      "execution_count": null,
      "outputs": []
    },
    {
      "cell_type": "code",
      "source": [
        "train_labels_2 = train_labels.squeeze()\n",
        "test_labels_2 = test_labels.squeeze()\n",
        "\n",
        "# from tensorflow.keras.utils import to_categorical\n",
        "# train_labels_2 = to_categorical(train_labels_2)\n",
        "# test_labels_2 = to_categorical(test_labels_2)"
      ],
      "metadata": {
        "id": "uUMJAhz5eAZS"
      },
      "execution_count": null,
      "outputs": []
    },
    {
      "cell_type": "code",
      "source": [
        "from sklearn.model_selection import train_test_split\n",
        "\n",
        "train_x, val_x, train_y, val_y = train_test_split(train_images_2, train_labels_2, test_size=0.2, random_state=1)\n",
        "train_x.shape, val_x.shape, train_y.shape, val_y.shape"
      ],
      "metadata": {
        "colab": {
          "base_uri": "https://localhost:8080/"
        },
        "id": "_a9nwIwReB4a",
        "outputId": "ac0813d3-cca1-4ac5-8aa8-9b61305ce8bc"
      },
      "execution_count": null,
      "outputs": [
        {
          "output_type": "execute_result",
          "data": {
            "text/plain": [
              "((40000, 32, 32, 3), (10000, 32, 32, 3), (40000,), (10000,))"
            ]
          },
          "metadata": {},
          "execution_count": 5
        }
      ]
    },
    {
      "cell_type": "markdown",
      "source": [
        "사전훈련 모델 불러오기"
      ],
      "metadata": {
        "id": "0aJf9YeoeHPh"
      }
    },
    {
      "cell_type": "code",
      "source": [
        "from tensorflow.keras.applications.vgg16 import VGG16\n",
        "from tensorflow.keras.applications.densenet import DenseNet121\n",
        "from tensorflow.keras.applications import ResNet50V2"
      ],
      "metadata": {
        "id": "x37t18QZfkfB"
      },
      "execution_count": null,
      "outputs": []
    },
    {
      "cell_type": "code",
      "source": [
        "from tensorflow.keras.models import Sequential, Model\n",
        "from tensorflow.keras.layers import Input, Dense , Conv2D , Dropout , Flatten , GlobalAveragePooling2D\n",
        "from tensorflow.keras.optimizers import Adam"
      ],
      "metadata": {
        "id": "-B5wrKbWeJrH"
      },
      "execution_count": null,
      "outputs": []
    },
    {
      "cell_type": "code",
      "source": [
        "# include_top=False로 기존 imagenet용 classifier 층들을 다 제거\n",
        "#weight는 전이학습을 위해 imagenet 학습된 weight를 초기 weight로 사용\n",
        "\n",
        "base_model = VGG16(input_shape=(32, 32, 3), include_top=False, weights='imagenet') # 사전학습모델 불러오기(전이학습 이용)\n",
        "# input_shape에 우리에 맞는 데이터 입력, include_top=False로 지정해서 윗부분은 고치지 않겠다는 의미(컨볼루션이랑 풀링은 제공된 그대로 사용하겠다는 의미)\n",
        "# weights는 imagenet으로 학습된 데이터를 가중치로 가져온다는 것\n",
        "\n",
        "# include_top을 False로 지정해서 여기서는 필요없는 부분\n",
        "# 전이학습을 하기 위해, CNN층의 학습 차단\n",
        "# for layer in base_model.layers:\n",
        "#   layer.trainable = False\n",
        "\n",
        "bm_output = base_model.output # 전이학습으로 가져온 은닉층을 저장(가져옴)"
      ],
      "metadata": {
        "id": "xF-gzmN1eLL7",
        "colab": {
          "base_uri": "https://localhost:8080/"
        },
        "outputId": "caaddc60-af7b-4785-b501-73a9508525d0"
      },
      "execution_count": null,
      "outputs": [
        {
          "output_type": "stream",
          "name": "stdout",
          "text": [
            "Downloading data from https://storage.googleapis.com/tensorflow/keras-applications/vgg16/vgg16_weights_tf_dim_ordering_tf_kernels_notop.h5\n",
            "58889256/58889256 [==============================] - 3s 0us/step\n"
          ]
        }
      ]
    },
    {
      "cell_type": "code",
      "source": [
        "# 글로벌맥스풀링은 각 공간 차원이 1이 될 때까지 공간 차원에 평균 풀링을 적용하고 다른 차원은 변경하지 않고 그대로 둚.\n",
        "# Flatten과 비슷한 기능을 함\n",
        "\n",
        "output_layer = GlobalAveragePooling2D()(bm_output) # 베이스모델과 내가 작성하는 PC층 연결 => 입력값으로는 base 부분의 ouput 부분이 입력되어야 함\n",
        "# 사전학습한 것과 내가 만든 풀링을 이어 붙일 때는 GloabalAveragePooling 사용\n",
        "output_layer = Dense(50, activation='relu')(output_layer)\n",
        "output_layer = Dense(10, activation='softmax')(output_layer)\n",
        "\n",
        "model = Model(inputs=base_model.input, outputs=output_layer) # model을 선언할 때 inputs에는 base 부분의 input 부분이 입력되어야 함"
      ],
      "metadata": {
        "id": "Hm_7NzqYlL4C"
      },
      "execution_count": null,
      "outputs": []
    },
    {
      "cell_type": "code",
      "source": [
        "model.summary()"
      ],
      "metadata": {
        "id": "k76yFKGZA8FF"
      },
      "execution_count": null,
      "outputs": []
    },
    {
      "cell_type": "code",
      "source": [
        "# 최적화 함수 adam에서 학습률을 지정함으로써 과적합 방지기능 추가함\n",
        "\n",
        "model.compile(optimizer=Adam(lr=0.001), loss='sparse_categorical_crossentropy', metrics=['accuracy'])\n",
        "# 층이 깊어지면 과적합 우려 -> adam 함수에서 learning rate(학습률)를 0.001로 사용"
      ],
      "metadata": {
        "colab": {
          "base_uri": "https://localhost:8080/"
        },
        "id": "QOeoEM2JeTc5",
        "outputId": "4d9baba5-63e2-487f-e0f2-4b2dcec3bc4b"
      },
      "execution_count": null,
      "outputs": [
        {
          "output_type": "stream",
          "name": "stderr",
          "text": [
            "WARNING:absl:`lr` is deprecated in Keras optimizer, please use `learning_rate` or use the legacy optimizer, e.g.,tf.keras.optimizers.legacy.Adam.\n"
          ]
        }
      ]
    },
    {
      "cell_type": "code",
      "source": [
        "batch_size = 64\n",
        "epochs = 20\n",
        "\n",
        "history = model.fit(x=train_x, y=train_y, batch_size=batch_size, epochs=epochs, validation_data=(val_x, val_y))"
      ],
      "metadata": {
        "colab": {
          "base_uri": "https://localhost:8080/"
        },
        "id": "WopkO3QZeU9g",
        "outputId": "54866cf7-bbcd-4c8c-b1f6-3158e53ec85d"
      },
      "execution_count": null,
      "outputs": [
        {
          "output_type": "stream",
          "name": "stdout",
          "text": [
            "Epoch 1/20\n",
            "625/625 [==============================] - 46s 39ms/step - loss: 1.8791 - accuracy: 0.2511 - val_loss: 1.6034 - val_accuracy: 0.3521\n",
            "Epoch 2/20\n",
            "625/625 [==============================] - 24s 38ms/step - loss: 1.3793 - accuracy: 0.4618 - val_loss: 1.1858 - val_accuracy: 0.5603\n",
            "Epoch 3/20\n",
            "625/625 [==============================] - 23s 36ms/step - loss: 1.0671 - accuracy: 0.6120 - val_loss: 0.9939 - val_accuracy: 0.6410\n",
            "Epoch 4/20\n",
            "625/625 [==============================] - 24s 38ms/step - loss: 0.8527 - accuracy: 0.7047 - val_loss: 0.8593 - val_accuracy: 0.7068\n",
            "Epoch 5/20\n",
            "625/625 [==============================] - 24s 38ms/step - loss: 0.7292 - accuracy: 0.7523 - val_loss: 0.8405 - val_accuracy: 0.7194\n",
            "Epoch 6/20\n",
            "625/625 [==============================] - 24s 38ms/step - loss: 0.6108 - accuracy: 0.7973 - val_loss: 0.6951 - val_accuracy: 0.7734\n",
            "Epoch 7/20\n",
            "625/625 [==============================] - 23s 37ms/step - loss: 0.5328 - accuracy: 0.8244 - val_loss: 0.7351 - val_accuracy: 0.7704\n",
            "Epoch 8/20\n",
            "625/625 [==============================] - 24s 38ms/step - loss: 0.4669 - accuracy: 0.8480 - val_loss: 0.7353 - val_accuracy: 0.7754\n",
            "Epoch 9/20\n",
            "625/625 [==============================] - 24s 38ms/step - loss: 0.4067 - accuracy: 0.8685 - val_loss: 0.7637 - val_accuracy: 0.7633\n",
            "Epoch 10/20\n",
            "625/625 [==============================] - 23s 37ms/step - loss: 0.3548 - accuracy: 0.8848 - val_loss: 0.7245 - val_accuracy: 0.7900\n",
            "Epoch 11/20\n",
            "625/625 [==============================] - 24s 38ms/step - loss: 0.3182 - accuracy: 0.8984 - val_loss: 0.7262 - val_accuracy: 0.7871\n",
            "Epoch 12/20\n",
            "625/625 [==============================] - 23s 37ms/step - loss: 0.3003 - accuracy: 0.9046 - val_loss: 0.8033 - val_accuracy: 0.7745\n",
            "Epoch 13/20\n",
            "625/625 [==============================] - 23s 37ms/step - loss: 0.2744 - accuracy: 0.9121 - val_loss: 0.8066 - val_accuracy: 0.7809\n",
            "Epoch 14/20\n",
            "625/625 [==============================] - 23s 37ms/step - loss: 0.2493 - accuracy: 0.9222 - val_loss: 0.8241 - val_accuracy: 0.7740\n",
            "Epoch 15/20\n",
            "625/625 [==============================] - 23s 37ms/step - loss: 0.2339 - accuracy: 0.9274 - val_loss: 0.8172 - val_accuracy: 0.7877\n",
            "Epoch 16/20\n",
            "625/625 [==============================] - 23s 37ms/step - loss: 0.2002 - accuracy: 0.9370 - val_loss: 0.9123 - val_accuracy: 0.8024\n",
            "Epoch 17/20\n",
            "625/625 [==============================] - 23s 37ms/step - loss: 0.1958 - accuracy: 0.9384 - val_loss: 0.9186 - val_accuracy: 0.7845\n",
            "Epoch 18/20\n",
            "625/625 [==============================] - 24s 39ms/step - loss: 0.1855 - accuracy: 0.9431 - val_loss: 0.8888 - val_accuracy: 0.7729\n",
            "Epoch 19/20\n",
            "625/625 [==============================] - 23s 37ms/step - loss: 0.1666 - accuracy: 0.9485 - val_loss: 1.0006 - val_accuracy: 0.7823\n",
            "Epoch 20/20\n",
            "625/625 [==============================] - 24s 39ms/step - loss: 0.1493 - accuracy: 0.9542 - val_loss: 0.9232 - val_accuracy: 0.7875\n"
          ]
        }
      ]
    },
    {
      "cell_type": "code",
      "source": [
        "# 테스트 데이터로 성능 평가\n",
        "model.evaluate(test_images_2, test_labels_2)"
      ],
      "metadata": {
        "colab": {
          "base_uri": "https://localhost:8080/"
        },
        "id": "YTrx3ODItZ8m",
        "outputId": "5f697a62-2849-439c-d97c-5058db3406b4"
      },
      "execution_count": null,
      "outputs": [
        {
          "output_type": "stream",
          "name": "stdout",
          "text": [
            "313/313 [==============================] - 3s 8ms/step - loss: 0.9246 - accuracy: 0.7879\n"
          ]
        },
        {
          "output_type": "execute_result",
          "data": {
            "text/plain": [
              "[0.9245699048042297, 0.7878999710083008]"
            ]
          },
          "metadata": {},
          "execution_count": 12
        }
      ]
    }
  ]
}