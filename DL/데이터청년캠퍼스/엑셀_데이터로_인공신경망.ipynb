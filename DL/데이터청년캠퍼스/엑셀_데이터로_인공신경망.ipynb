{
  "nbformat": 4,
  "nbformat_minor": 0,
  "metadata": {
    "colab": {
      "provenance": [],
      "authorship_tag": "ABX9TyOoi2G21yG7vrPJLuzO2ngn",
      "include_colab_link": true
    },
    "kernelspec": {
      "name": "python3",
      "display_name": "Python 3"
    },
    "language_info": {
      "name": "python"
    }
  },
  "cells": [
    {
      "cell_type": "markdown",
      "metadata": {
        "id": "view-in-github",
        "colab_type": "text"
      },
      "source": [
        "<a href=\"https://colab.research.google.com/github/gyeongdong13/Study/blob/main/%EC%97%91%EC%85%80_%EB%8D%B0%EC%9D%B4%ED%84%B0%EB%A1%9C_%EC%9D%B8%EA%B3%B5%EC%8B%A0%EA%B2%BD%EB%A7%9D.ipynb\" target=\"_parent\"><img src=\"https://colab.research.google.com/assets/colab-badge.svg\" alt=\"Open In Colab\"/></a>"
      ]
    },
    {
      "cell_type": "code",
      "execution_count": null,
      "metadata": {
        "id": "KjNb17e0b20F"
      },
      "outputs": [],
      "source": [
        "import pandas as pd\n",
        "import numpy as np"
      ]
    },
    {
      "cell_type": "code",
      "source": [
        "from google.colab import drive\n",
        "drive.mount('/content/drive')"
      ],
      "metadata": {
        "colab": {
          "base_uri": "https://localhost:8080/"
        },
        "id": "Bd6Sy-DIcLtH",
        "outputId": "63e008d0-39e0-4150-9528-9bcd9eea5869"
      },
      "execution_count": null,
      "outputs": [
        {
          "output_type": "stream",
          "name": "stdout",
          "text": [
            "Mounted at /content/drive\n"
          ]
        }
      ]
    },
    {
      "cell_type": "code",
      "source": [
        "dataset = pd.read_csv('mpg.csv')\n",
        "\n",
        "dataset.head()"
      ],
      "metadata": {
        "colab": {
          "base_uri": "https://localhost:8080/",
          "height": 206
        },
        "id": "3Nsj7-kFcnIw",
        "outputId": "dc1c4f6e-fc30-4066-eb9a-9a51ec9b3c9c"
      },
      "execution_count": null,
      "outputs": [
        {
          "output_type": "execute_result",
          "data": {
            "text/plain": [
              "   Cylinders  Displacement  Horsepower  Weight  Acceleration  Model Year  \\\n",
              "0          8         307.0       130.0    3504          12.0          70   \n",
              "1          8         350.0       165.0    3693          11.5          70   \n",
              "2          8         318.0       150.0    3436          11.0          70   \n",
              "3          8         304.0       150.0    3433          12.0          70   \n",
              "4          8         302.0       140.0    3449          10.5          70   \n",
              "\n",
              "   Origin   MPG  \n",
              "0       1  18.0  \n",
              "1       1  15.0  \n",
              "2       1  18.0  \n",
              "3       1  16.0  \n",
              "4       1  17.0  "
            ],
            "text/html": [
              "\n",
              "\n",
              "  <div id=\"df-5d3c606e-645e-4298-99c7-6d6f8ff985ec\">\n",
              "    <div class=\"colab-df-container\">\n",
              "      <div>\n",
              "<style scoped>\n",
              "    .dataframe tbody tr th:only-of-type {\n",
              "        vertical-align: middle;\n",
              "    }\n",
              "\n",
              "    .dataframe tbody tr th {\n",
              "        vertical-align: top;\n",
              "    }\n",
              "\n",
              "    .dataframe thead th {\n",
              "        text-align: right;\n",
              "    }\n",
              "</style>\n",
              "<table border=\"1\" class=\"dataframe\">\n",
              "  <thead>\n",
              "    <tr style=\"text-align: right;\">\n",
              "      <th></th>\n",
              "      <th>Cylinders</th>\n",
              "      <th>Displacement</th>\n",
              "      <th>Horsepower</th>\n",
              "      <th>Weight</th>\n",
              "      <th>Acceleration</th>\n",
              "      <th>Model Year</th>\n",
              "      <th>Origin</th>\n",
              "      <th>MPG</th>\n",
              "    </tr>\n",
              "  </thead>\n",
              "  <tbody>\n",
              "    <tr>\n",
              "      <th>0</th>\n",
              "      <td>8</td>\n",
              "      <td>307.0</td>\n",
              "      <td>130.0</td>\n",
              "      <td>3504</td>\n",
              "      <td>12.0</td>\n",
              "      <td>70</td>\n",
              "      <td>1</td>\n",
              "      <td>18.0</td>\n",
              "    </tr>\n",
              "    <tr>\n",
              "      <th>1</th>\n",
              "      <td>8</td>\n",
              "      <td>350.0</td>\n",
              "      <td>165.0</td>\n",
              "      <td>3693</td>\n",
              "      <td>11.5</td>\n",
              "      <td>70</td>\n",
              "      <td>1</td>\n",
              "      <td>15.0</td>\n",
              "    </tr>\n",
              "    <tr>\n",
              "      <th>2</th>\n",
              "      <td>8</td>\n",
              "      <td>318.0</td>\n",
              "      <td>150.0</td>\n",
              "      <td>3436</td>\n",
              "      <td>11.0</td>\n",
              "      <td>70</td>\n",
              "      <td>1</td>\n",
              "      <td>18.0</td>\n",
              "    </tr>\n",
              "    <tr>\n",
              "      <th>3</th>\n",
              "      <td>8</td>\n",
              "      <td>304.0</td>\n",
              "      <td>150.0</td>\n",
              "      <td>3433</td>\n",
              "      <td>12.0</td>\n",
              "      <td>70</td>\n",
              "      <td>1</td>\n",
              "      <td>16.0</td>\n",
              "    </tr>\n",
              "    <tr>\n",
              "      <th>4</th>\n",
              "      <td>8</td>\n",
              "      <td>302.0</td>\n",
              "      <td>140.0</td>\n",
              "      <td>3449</td>\n",
              "      <td>10.5</td>\n",
              "      <td>70</td>\n",
              "      <td>1</td>\n",
              "      <td>17.0</td>\n",
              "    </tr>\n",
              "  </tbody>\n",
              "</table>\n",
              "</div>\n",
              "      <button class=\"colab-df-convert\" onclick=\"convertToInteractive('df-5d3c606e-645e-4298-99c7-6d6f8ff985ec')\"\n",
              "              title=\"Convert this dataframe to an interactive table.\"\n",
              "              style=\"display:none;\">\n",
              "\n",
              "  <svg xmlns=\"http://www.w3.org/2000/svg\" height=\"24px\"viewBox=\"0 0 24 24\"\n",
              "       width=\"24px\">\n",
              "    <path d=\"M0 0h24v24H0V0z\" fill=\"none\"/>\n",
              "    <path d=\"M18.56 5.44l.94 2.06.94-2.06 2.06-.94-2.06-.94-.94-2.06-.94 2.06-2.06.94zm-11 1L8.5 8.5l.94-2.06 2.06-.94-2.06-.94L8.5 2.5l-.94 2.06-2.06.94zm10 10l.94 2.06.94-2.06 2.06-.94-2.06-.94-.94-2.06-.94 2.06-2.06.94z\"/><path d=\"M17.41 7.96l-1.37-1.37c-.4-.4-.92-.59-1.43-.59-.52 0-1.04.2-1.43.59L10.3 9.45l-7.72 7.72c-.78.78-.78 2.05 0 2.83L4 21.41c.39.39.9.59 1.41.59.51 0 1.02-.2 1.41-.59l7.78-7.78 2.81-2.81c.8-.78.8-2.07 0-2.86zM5.41 20L4 18.59l7.72-7.72 1.47 1.35L5.41 20z\"/>\n",
              "  </svg>\n",
              "      </button>\n",
              "\n",
              "\n",
              "\n",
              "    <div id=\"df-cc434497-6fb1-4fb4-a962-21f562bfa72a\">\n",
              "      <button class=\"colab-df-quickchart\" onclick=\"quickchart('df-cc434497-6fb1-4fb4-a962-21f562bfa72a')\"\n",
              "              title=\"Suggest charts.\"\n",
              "              style=\"display:none;\">\n",
              "\n",
              "<svg xmlns=\"http://www.w3.org/2000/svg\" height=\"24px\"viewBox=\"0 0 24 24\"\n",
              "     width=\"24px\">\n",
              "    <g>\n",
              "        <path d=\"M19 3H5c-1.1 0-2 .9-2 2v14c0 1.1.9 2 2 2h14c1.1 0 2-.9 2-2V5c0-1.1-.9-2-2-2zM9 17H7v-7h2v7zm4 0h-2V7h2v10zm4 0h-2v-4h2v4z\"/>\n",
              "    </g>\n",
              "</svg>\n",
              "      </button>\n",
              "    </div>\n",
              "\n",
              "<style>\n",
              "  .colab-df-quickchart {\n",
              "    background-color: #E8F0FE;\n",
              "    border: none;\n",
              "    border-radius: 50%;\n",
              "    cursor: pointer;\n",
              "    display: none;\n",
              "    fill: #1967D2;\n",
              "    height: 32px;\n",
              "    padding: 0 0 0 0;\n",
              "    width: 32px;\n",
              "  }\n",
              "\n",
              "  .colab-df-quickchart:hover {\n",
              "    background-color: #E2EBFA;\n",
              "    box-shadow: 0px 1px 2px rgba(60, 64, 67, 0.3), 0px 1px 3px 1px rgba(60, 64, 67, 0.15);\n",
              "    fill: #174EA6;\n",
              "  }\n",
              "\n",
              "  [theme=dark] .colab-df-quickchart {\n",
              "    background-color: #3B4455;\n",
              "    fill: #D2E3FC;\n",
              "  }\n",
              "\n",
              "  [theme=dark] .colab-df-quickchart:hover {\n",
              "    background-color: #434B5C;\n",
              "    box-shadow: 0px 1px 3px 1px rgba(0, 0, 0, 0.15);\n",
              "    filter: drop-shadow(0px 1px 2px rgba(0, 0, 0, 0.3));\n",
              "    fill: #FFFFFF;\n",
              "  }\n",
              "</style>\n",
              "\n",
              "    <script>\n",
              "      async function quickchart(key) {\n",
              "        const containerElement = document.querySelector('#' + key);\n",
              "        const charts = await google.colab.kernel.invokeFunction(\n",
              "            'suggestCharts', [key], {});\n",
              "      }\n",
              "    </script>\n",
              "\n",
              "      <script>\n",
              "\n",
              "function displayQuickchartButton(domScope) {\n",
              "  let quickchartButtonEl =\n",
              "    domScope.querySelector('#df-cc434497-6fb1-4fb4-a962-21f562bfa72a button.colab-df-quickchart');\n",
              "  quickchartButtonEl.style.display =\n",
              "    google.colab.kernel.accessAllowed ? 'block' : 'none';\n",
              "}\n",
              "\n",
              "        displayQuickchartButton(document);\n",
              "      </script>\n",
              "      <style>\n",
              "    .colab-df-container {\n",
              "      display:flex;\n",
              "      flex-wrap:wrap;\n",
              "      gap: 12px;\n",
              "    }\n",
              "\n",
              "    .colab-df-convert {\n",
              "      background-color: #E8F0FE;\n",
              "      border: none;\n",
              "      border-radius: 50%;\n",
              "      cursor: pointer;\n",
              "      display: none;\n",
              "      fill: #1967D2;\n",
              "      height: 32px;\n",
              "      padding: 0 0 0 0;\n",
              "      width: 32px;\n",
              "    }\n",
              "\n",
              "    .colab-df-convert:hover {\n",
              "      background-color: #E2EBFA;\n",
              "      box-shadow: 0px 1px 2px rgba(60, 64, 67, 0.3), 0px 1px 3px 1px rgba(60, 64, 67, 0.15);\n",
              "      fill: #174EA6;\n",
              "    }\n",
              "\n",
              "    [theme=dark] .colab-df-convert {\n",
              "      background-color: #3B4455;\n",
              "      fill: #D2E3FC;\n",
              "    }\n",
              "\n",
              "    [theme=dark] .colab-df-convert:hover {\n",
              "      background-color: #434B5C;\n",
              "      box-shadow: 0px 1px 3px 1px rgba(0, 0, 0, 0.15);\n",
              "      filter: drop-shadow(0px 1px 2px rgba(0, 0, 0, 0.3));\n",
              "      fill: #FFFFFF;\n",
              "    }\n",
              "  </style>\n",
              "\n",
              "      <script>\n",
              "        const buttonEl =\n",
              "          document.querySelector('#df-5d3c606e-645e-4298-99c7-6d6f8ff985ec button.colab-df-convert');\n",
              "        buttonEl.style.display =\n",
              "          google.colab.kernel.accessAllowed ? 'block' : 'none';\n",
              "\n",
              "        async function convertToInteractive(key) {\n",
              "          const element = document.querySelector('#df-5d3c606e-645e-4298-99c7-6d6f8ff985ec');\n",
              "          const dataTable =\n",
              "            await google.colab.kernel.invokeFunction('convertToInteractive',\n",
              "                                                     [key], {});\n",
              "          if (!dataTable) return;\n",
              "\n",
              "          const docLinkHtml = 'Like what you see? Visit the ' +\n",
              "            '<a target=\"_blank\" href=https://colab.research.google.com/notebooks/data_table.ipynb>data table notebook</a>'\n",
              "            + ' to learn more about interactive tables.';\n",
              "          element.innerHTML = '';\n",
              "          dataTable['output_type'] = 'display_data';\n",
              "          await google.colab.output.renderOutput(dataTable, element);\n",
              "          const docLink = document.createElement('div');\n",
              "          docLink.innerHTML = docLinkHtml;\n",
              "          element.appendChild(docLink);\n",
              "        }\n",
              "      </script>\n",
              "    </div>\n",
              "  </div>\n"
            ]
          },
          "metadata": {},
          "execution_count": 3
        }
      ]
    },
    {
      "cell_type": "code",
      "source": [
        "# 결측치(NULL) 확인\n",
        "dataset.info()"
      ],
      "metadata": {
        "colab": {
          "base_uri": "https://localhost:8080/"
        },
        "id": "7VQYGHDtdIOE",
        "outputId": "966bc63e-475b-48dd-9c40-4a83df1e09c4"
      },
      "execution_count": null,
      "outputs": [
        {
          "output_type": "stream",
          "name": "stdout",
          "text": [
            "<class 'pandas.core.frame.DataFrame'>\n",
            "RangeIndex: 398 entries, 0 to 397\n",
            "Data columns (total 8 columns):\n",
            " #   Column        Non-Null Count  Dtype  \n",
            "---  ------        --------------  -----  \n",
            " 0   Cylinders     398 non-null    int64  \n",
            " 1   Displacement  398 non-null    float64\n",
            " 2   Horsepower    392 non-null    float64\n",
            " 3   Weight        398 non-null    int64  \n",
            " 4   Acceleration  398 non-null    float64\n",
            " 5   Model Year    398 non-null    int64  \n",
            " 6   Origin        398 non-null    int64  \n",
            " 7   MPG           398 non-null    float64\n",
            "dtypes: float64(4), int64(4)\n",
            "memory usage: 25.0 KB\n"
          ]
        }
      ]
    },
    {
      "cell_type": "code",
      "source": [
        "# 결측치 제거\n",
        "dataset.dropna(inplace=True)\n",
        "dataset.info()"
      ],
      "metadata": {
        "colab": {
          "base_uri": "https://localhost:8080/"
        },
        "id": "HLJs1_p6dJvz",
        "outputId": "457899f9-4b92-4a8b-de8f-e957903c1975"
      },
      "execution_count": null,
      "outputs": [
        {
          "output_type": "stream",
          "name": "stdout",
          "text": [
            "<class 'pandas.core.frame.DataFrame'>\n",
            "Int64Index: 392 entries, 0 to 397\n",
            "Data columns (total 8 columns):\n",
            " #   Column        Non-Null Count  Dtype  \n",
            "---  ------        --------------  -----  \n",
            " 0   Cylinders     392 non-null    int64  \n",
            " 1   Displacement  392 non-null    float64\n",
            " 2   Horsepower    392 non-null    float64\n",
            " 3   Weight        392 non-null    int64  \n",
            " 4   Acceleration  392 non-null    float64\n",
            " 5   Model Year    392 non-null    int64  \n",
            " 6   Origin        392 non-null    int64  \n",
            " 7   MPG           392 non-null    float64\n",
            "dtypes: float64(4), int64(4)\n",
            "memory usage: 27.6 KB\n"
          ]
        }
      ]
    },
    {
      "cell_type": "code",
      "source": [
        "dataset = dataset.reset_index()"
      ],
      "metadata": {
        "id": "P2yn-IFsdPHL"
      },
      "execution_count": null,
      "outputs": []
    },
    {
      "cell_type": "code",
      "source": [
        "# feature(독립변수)와 label(종속변수) 지정하기\n",
        "\n",
        "x = dataset.iloc[:, 0:-1]  # feature(마지막 하나를 빼고 가져오기)\n",
        "y = dataset.iloc[:, -1]    # label(마지막 하나만 가져오기)\n",
        "x.head(5), y.head(5)"
      ],
      "metadata": {
        "colab": {
          "base_uri": "https://localhost:8080/"
        },
        "id": "1iZyVOtydk9p",
        "outputId": "7e917df8-18ca-46d2-b91f-43d39688dc8c"
      },
      "execution_count": null,
      "outputs": [
        {
          "output_type": "execute_result",
          "data": {
            "text/plain": [
              "(   index  Cylinders  Displacement  Horsepower  Weight  Acceleration  \\\n",
              " 0      0          8         307.0       130.0    3504          12.0   \n",
              " 1      1          8         350.0       165.0    3693          11.5   \n",
              " 2      2          8         318.0       150.0    3436          11.0   \n",
              " 3      3          8         304.0       150.0    3433          12.0   \n",
              " 4      4          8         302.0       140.0    3449          10.5   \n",
              " \n",
              "    Model Year  Origin  \n",
              " 0          70       1  \n",
              " 1          70       1  \n",
              " 2          70       1  \n",
              " 3          70       1  \n",
              " 4          70       1  ,\n",
              " 0    18.0\n",
              " 1    15.0\n",
              " 2    18.0\n",
              " 3    16.0\n",
              " 4    17.0\n",
              " Name: MPG, dtype: float64)"
            ]
          },
          "metadata": {},
          "execution_count": 9
        }
      ]
    },
    {
      "cell_type": "code",
      "source": [
        "# 독립변수 표준화하기\n",
        "\n",
        "# 독립변수가 간 단위가 다르면, 학습에 영향을 준다.\n",
        "# 모델 학습 시 소요되는 시간 단축\n",
        "\n",
        "from sklearn.preprocessing  import StandardScaler # 표준화\n",
        "\n",
        "scaler = StandardScaler() # 선\n",
        "xs = scaler.fit_transform(x) # 각 독립변수의 평균과 표준편차 이용하여 단위 축소\n",
        "x = pd.DataFrame(xs, columns=x.columns)"
      ],
      "metadata": {
        "id": "8EIFQt79dvu5"
      },
      "execution_count": null,
      "outputs": []
    },
    {
      "cell_type": "code",
      "source": [
        "x.head(5)"
      ],
      "metadata": {
        "colab": {
          "base_uri": "https://localhost:8080/",
          "height": 206
        },
        "id": "nDQdu2fde_pc",
        "outputId": "b2bd53bf-b69d-4322-e07d-4712b4cf6c52"
      },
      "execution_count": null,
      "outputs": [
        {
          "output_type": "execute_result",
          "data": {
            "text/plain": [
              "      index  Cylinders  Displacement  Horsepower    Weight  Acceleration  \\\n",
              "0 -1.727264   1.483947      1.077290    0.664133  0.620540     -1.285258   \n",
              "1 -1.718522   1.483947      1.488732    1.574594  0.843334     -1.466724   \n",
              "2 -1.709780   1.483947      1.182542    1.184397  0.540382     -1.648189   \n",
              "3 -1.701038   1.483947      1.048584    1.184397  0.536845     -1.285258   \n",
              "4 -1.692296   1.483947      1.029447    0.924265  0.555706     -1.829655   \n",
              "\n",
              "   Model Year    Origin  \n",
              "0   -1.625315 -0.716641  \n",
              "1   -1.625315 -0.716641  \n",
              "2   -1.625315 -0.716641  \n",
              "3   -1.625315 -0.716641  \n",
              "4   -1.625315 -0.716641  "
            ],
            "text/html": [
              "\n",
              "\n",
              "  <div id=\"df-38a03d31-f766-485a-b7eb-85ec913d500a\">\n",
              "    <div class=\"colab-df-container\">\n",
              "      <div>\n",
              "<style scoped>\n",
              "    .dataframe tbody tr th:only-of-type {\n",
              "        vertical-align: middle;\n",
              "    }\n",
              "\n",
              "    .dataframe tbody tr th {\n",
              "        vertical-align: top;\n",
              "    }\n",
              "\n",
              "    .dataframe thead th {\n",
              "        text-align: right;\n",
              "    }\n",
              "</style>\n",
              "<table border=\"1\" class=\"dataframe\">\n",
              "  <thead>\n",
              "    <tr style=\"text-align: right;\">\n",
              "      <th></th>\n",
              "      <th>index</th>\n",
              "      <th>Cylinders</th>\n",
              "      <th>Displacement</th>\n",
              "      <th>Horsepower</th>\n",
              "      <th>Weight</th>\n",
              "      <th>Acceleration</th>\n",
              "      <th>Model Year</th>\n",
              "      <th>Origin</th>\n",
              "    </tr>\n",
              "  </thead>\n",
              "  <tbody>\n",
              "    <tr>\n",
              "      <th>0</th>\n",
              "      <td>-1.727264</td>\n",
              "      <td>1.483947</td>\n",
              "      <td>1.077290</td>\n",
              "      <td>0.664133</td>\n",
              "      <td>0.620540</td>\n",
              "      <td>-1.285258</td>\n",
              "      <td>-1.625315</td>\n",
              "      <td>-0.716641</td>\n",
              "    </tr>\n",
              "    <tr>\n",
              "      <th>1</th>\n",
              "      <td>-1.718522</td>\n",
              "      <td>1.483947</td>\n",
              "      <td>1.488732</td>\n",
              "      <td>1.574594</td>\n",
              "      <td>0.843334</td>\n",
              "      <td>-1.466724</td>\n",
              "      <td>-1.625315</td>\n",
              "      <td>-0.716641</td>\n",
              "    </tr>\n",
              "    <tr>\n",
              "      <th>2</th>\n",
              "      <td>-1.709780</td>\n",
              "      <td>1.483947</td>\n",
              "      <td>1.182542</td>\n",
              "      <td>1.184397</td>\n",
              "      <td>0.540382</td>\n",
              "      <td>-1.648189</td>\n",
              "      <td>-1.625315</td>\n",
              "      <td>-0.716641</td>\n",
              "    </tr>\n",
              "    <tr>\n",
              "      <th>3</th>\n",
              "      <td>-1.701038</td>\n",
              "      <td>1.483947</td>\n",
              "      <td>1.048584</td>\n",
              "      <td>1.184397</td>\n",
              "      <td>0.536845</td>\n",
              "      <td>-1.285258</td>\n",
              "      <td>-1.625315</td>\n",
              "      <td>-0.716641</td>\n",
              "    </tr>\n",
              "    <tr>\n",
              "      <th>4</th>\n",
              "      <td>-1.692296</td>\n",
              "      <td>1.483947</td>\n",
              "      <td>1.029447</td>\n",
              "      <td>0.924265</td>\n",
              "      <td>0.555706</td>\n",
              "      <td>-1.829655</td>\n",
              "      <td>-1.625315</td>\n",
              "      <td>-0.716641</td>\n",
              "    </tr>\n",
              "  </tbody>\n",
              "</table>\n",
              "</div>\n",
              "      <button class=\"colab-df-convert\" onclick=\"convertToInteractive('df-38a03d31-f766-485a-b7eb-85ec913d500a')\"\n",
              "              title=\"Convert this dataframe to an interactive table.\"\n",
              "              style=\"display:none;\">\n",
              "\n",
              "  <svg xmlns=\"http://www.w3.org/2000/svg\" height=\"24px\"viewBox=\"0 0 24 24\"\n",
              "       width=\"24px\">\n",
              "    <path d=\"M0 0h24v24H0V0z\" fill=\"none\"/>\n",
              "    <path d=\"M18.56 5.44l.94 2.06.94-2.06 2.06-.94-2.06-.94-.94-2.06-.94 2.06-2.06.94zm-11 1L8.5 8.5l.94-2.06 2.06-.94-2.06-.94L8.5 2.5l-.94 2.06-2.06.94zm10 10l.94 2.06.94-2.06 2.06-.94-2.06-.94-.94-2.06-.94 2.06-2.06.94z\"/><path d=\"M17.41 7.96l-1.37-1.37c-.4-.4-.92-.59-1.43-.59-.52 0-1.04.2-1.43.59L10.3 9.45l-7.72 7.72c-.78.78-.78 2.05 0 2.83L4 21.41c.39.39.9.59 1.41.59.51 0 1.02-.2 1.41-.59l7.78-7.78 2.81-2.81c.8-.78.8-2.07 0-2.86zM5.41 20L4 18.59l7.72-7.72 1.47 1.35L5.41 20z\"/>\n",
              "  </svg>\n",
              "      </button>\n",
              "\n",
              "\n",
              "\n",
              "    <div id=\"df-d5d9bfb4-9afe-46af-a0ba-4adde050edb0\">\n",
              "      <button class=\"colab-df-quickchart\" onclick=\"quickchart('df-d5d9bfb4-9afe-46af-a0ba-4adde050edb0')\"\n",
              "              title=\"Suggest charts.\"\n",
              "              style=\"display:none;\">\n",
              "\n",
              "<svg xmlns=\"http://www.w3.org/2000/svg\" height=\"24px\"viewBox=\"0 0 24 24\"\n",
              "     width=\"24px\">\n",
              "    <g>\n",
              "        <path d=\"M19 3H5c-1.1 0-2 .9-2 2v14c0 1.1.9 2 2 2h14c1.1 0 2-.9 2-2V5c0-1.1-.9-2-2-2zM9 17H7v-7h2v7zm4 0h-2V7h2v10zm4 0h-2v-4h2v4z\"/>\n",
              "    </g>\n",
              "</svg>\n",
              "      </button>\n",
              "    </div>\n",
              "\n",
              "<style>\n",
              "  .colab-df-quickchart {\n",
              "    background-color: #E8F0FE;\n",
              "    border: none;\n",
              "    border-radius: 50%;\n",
              "    cursor: pointer;\n",
              "    display: none;\n",
              "    fill: #1967D2;\n",
              "    height: 32px;\n",
              "    padding: 0 0 0 0;\n",
              "    width: 32px;\n",
              "  }\n",
              "\n",
              "  .colab-df-quickchart:hover {\n",
              "    background-color: #E2EBFA;\n",
              "    box-shadow: 0px 1px 2px rgba(60, 64, 67, 0.3), 0px 1px 3px 1px rgba(60, 64, 67, 0.15);\n",
              "    fill: #174EA6;\n",
              "  }\n",
              "\n",
              "  [theme=dark] .colab-df-quickchart {\n",
              "    background-color: #3B4455;\n",
              "    fill: #D2E3FC;\n",
              "  }\n",
              "\n",
              "  [theme=dark] .colab-df-quickchart:hover {\n",
              "    background-color: #434B5C;\n",
              "    box-shadow: 0px 1px 3px 1px rgba(0, 0, 0, 0.15);\n",
              "    filter: drop-shadow(0px 1px 2px rgba(0, 0, 0, 0.3));\n",
              "    fill: #FFFFFF;\n",
              "  }\n",
              "</style>\n",
              "\n",
              "    <script>\n",
              "      async function quickchart(key) {\n",
              "        const containerElement = document.querySelector('#' + key);\n",
              "        const charts = await google.colab.kernel.invokeFunction(\n",
              "            'suggestCharts', [key], {});\n",
              "      }\n",
              "    </script>\n",
              "\n",
              "      <script>\n",
              "\n",
              "function displayQuickchartButton(domScope) {\n",
              "  let quickchartButtonEl =\n",
              "    domScope.querySelector('#df-d5d9bfb4-9afe-46af-a0ba-4adde050edb0 button.colab-df-quickchart');\n",
              "  quickchartButtonEl.style.display =\n",
              "    google.colab.kernel.accessAllowed ? 'block' : 'none';\n",
              "}\n",
              "\n",
              "        displayQuickchartButton(document);\n",
              "      </script>\n",
              "      <style>\n",
              "    .colab-df-container {\n",
              "      display:flex;\n",
              "      flex-wrap:wrap;\n",
              "      gap: 12px;\n",
              "    }\n",
              "\n",
              "    .colab-df-convert {\n",
              "      background-color: #E8F0FE;\n",
              "      border: none;\n",
              "      border-radius: 50%;\n",
              "      cursor: pointer;\n",
              "      display: none;\n",
              "      fill: #1967D2;\n",
              "      height: 32px;\n",
              "      padding: 0 0 0 0;\n",
              "      width: 32px;\n",
              "    }\n",
              "\n",
              "    .colab-df-convert:hover {\n",
              "      background-color: #E2EBFA;\n",
              "      box-shadow: 0px 1px 2px rgba(60, 64, 67, 0.3), 0px 1px 3px 1px rgba(60, 64, 67, 0.15);\n",
              "      fill: #174EA6;\n",
              "    }\n",
              "\n",
              "    [theme=dark] .colab-df-convert {\n",
              "      background-color: #3B4455;\n",
              "      fill: #D2E3FC;\n",
              "    }\n",
              "\n",
              "    [theme=dark] .colab-df-convert:hover {\n",
              "      background-color: #434B5C;\n",
              "      box-shadow: 0px 1px 3px 1px rgba(0, 0, 0, 0.15);\n",
              "      filter: drop-shadow(0px 1px 2px rgba(0, 0, 0, 0.3));\n",
              "      fill: #FFFFFF;\n",
              "    }\n",
              "  </style>\n",
              "\n",
              "      <script>\n",
              "        const buttonEl =\n",
              "          document.querySelector('#df-38a03d31-f766-485a-b7eb-85ec913d500a button.colab-df-convert');\n",
              "        buttonEl.style.display =\n",
              "          google.colab.kernel.accessAllowed ? 'block' : 'none';\n",
              "\n",
              "        async function convertToInteractive(key) {\n",
              "          const element = document.querySelector('#df-38a03d31-f766-485a-b7eb-85ec913d500a');\n",
              "          const dataTable =\n",
              "            await google.colab.kernel.invokeFunction('convertToInteractive',\n",
              "                                                     [key], {});\n",
              "          if (!dataTable) return;\n",
              "\n",
              "          const docLinkHtml = 'Like what you see? Visit the ' +\n",
              "            '<a target=\"_blank\" href=https://colab.research.google.com/notebooks/data_table.ipynb>data table notebook</a>'\n",
              "            + ' to learn more about interactive tables.';\n",
              "          element.innerHTML = '';\n",
              "          dataTable['output_type'] = 'display_data';\n",
              "          await google.colab.output.renderOutput(dataTable, element);\n",
              "          const docLink = document.createElement('div');\n",
              "          docLink.innerHTML = docLinkHtml;\n",
              "          element.appendChild(docLink);\n",
              "        }\n",
              "      </script>\n",
              "    </div>\n",
              "  </div>\n"
            ]
          },
          "metadata": {},
          "execution_count": 11
        }
      ]
    },
    {
      "cell_type": "code",
      "source": [
        "# 학습데이터를 독립변수x 종속변수y로 구분하기\n",
        "\n",
        "from sklearn.model_selection import train_test_split\n",
        "train_x, test_x, train_y, test_y = train_test_split(x, y, test_size=0.3)"
      ],
      "metadata": {
        "id": "Bzofbb9UfBsD"
      },
      "execution_count": null,
      "outputs": []
    },
    {
      "cell_type": "code",
      "source": [
        "train_x.shape, test_x.shape, train_y.shape, test_y.shape"
      ],
      "metadata": {
        "colab": {
          "base_uri": "https://localhost:8080/"
        },
        "id": "reCxZ594fSow",
        "outputId": "83987c7e-6561-48c9-d72d-8619a7489927"
      },
      "execution_count": null,
      "outputs": [
        {
          "output_type": "execute_result",
          "data": {
            "text/plain": [
              "((274, 8), (118, 8), (274,), (118,))"
            ]
          },
          "metadata": {},
          "execution_count": 13
        }
      ]
    },
    {
      "cell_type": "markdown",
      "source": [
        "인공신경망(ANN) 모델 설계 - 수치형"
      ],
      "metadata": {
        "id": "WP_bsLqUfh07"
      }
    },
    {
      "cell_type": "code",
      "source": [
        "from tensorflow.keras.layers import Dense      # 완전연결층 => 가장 기본적인 딥러닝 층\n",
        "from tensorflow.keras.models import Sequential # Keras 패키지의 Model 생성 함수\n",
        "\n",
        "model = Sequential()                                           # Sequential은 layer을 순차적으로 쌓는다\n",
        "model.add(Dense(24,  activation='relu'))                       # Dense (Fully Connected Layer, 완전연결층) 레이어의 입력과 출력을 빠짐없이 모두 연결함. # Node (neuron) 수   # 활성화 함수(activation function) relu (rectified linear unit) 딥러닝에서 가장 많이 사용\n",
        "model.add(Dense(16, activation='relu'))\n",
        "model.add(Dense(1))"
      ],
      "metadata": {
        "id": "dtMWPy_4fdmz"
      },
      "execution_count": null,
      "outputs": []
    },
    {
      "cell_type": "markdown",
      "source": [
        "4. 인공신경망 모델의 손실함수(Loss)와 최적화함수(Optimizer) 설정"
      ],
      "metadata": {
        "id": "8i8DUzGegDBx"
      }
    },
    {
      "cell_type": "code",
      "source": [
        "# 종속변수(Y) = 출력값 => 연속형 숫자 값.\n",
        "\n",
        "# 따라서,\n",
        "\n",
        "# 최적화함수는 Adam\n",
        "# 손실함수는 mse  #mean squared error\n",
        "# 정확도 계산 방식은 Accuracy를 사용 # Accuracy외에도 precision, F1_score 등 설정 가능\n",
        "# 종속변수가 숫자이기 때문에 loss로 mse 사용.\n",
        "\n",
        "model.compile(loss='mse', optimizer='adam', metrics=['mse'])\n",
        "# 손실함수(loss function): 예측값과 실제관측값의 차이를 줄이는 방향으로 학습함. 'mse', mean squared error가 많이 사용됨.\n",
        "# 최적화(optimizer), 손실함수를 기반으로 학습방향을 결정함 #adam #rmsprop # sgd(stochastic gradient descent) 등이 사용됨.\n",
        "# 평가지표(metrics), 학습과정을 모니터링함. accuracy(줄여서 acc), mae,"
      ],
      "metadata": {
        "id": "MYQK0L0nf6GD"
      },
      "execution_count": null,
      "outputs": []
    },
    {
      "cell_type": "markdown",
      "source": [
        "인공신경망 모델 학습 수행"
      ],
      "metadata": {
        "id": "SDnvrwIVg_js"
      }
    },
    {
      "cell_type": "code",
      "source": [
        "# 학습은 model.fit으로 할 수 있다.\n",
        "\n",
        "epochs = 20\n",
        "batch_size = 8\n",
        "\n",
        "history = model.fit(train_x, train_y, epochs=epochs, batch_size=batch_size, validation_split=0.2,  verbose=1)\n",
        "\n",
        "# validation_split을 비율로 지정할 수 도 있다.\n",
        "# mse가 점점 수렴해 가므로 적당한 에포크의 수라고 말할 수 있음\n",
        "# 코랩에서는 에포크가 저장되므로 학습이 이어서 되므로 처음에 10번 에포크 + 여기서 20번 에포크 추가 = 총 30번 에포크가 돌아간 것"
      ],
      "metadata": {
        "colab": {
          "base_uri": "https://localhost:8080/"
        },
        "id": "UK_Lm9Irg9C_",
        "outputId": "eb6da08a-88eb-4fea-ccd3-b8e3ee525b30"
      },
      "execution_count": null,
      "outputs": [
        {
          "output_type": "stream",
          "name": "stdout",
          "text": [
            "Epoch 1/20\n",
            "28/28 [==============================] - 0s 10ms/step - loss: 33.7447 - mse: 33.7447 - val_loss: 30.7622 - val_mse: 30.7622\n",
            "Epoch 2/20\n",
            "28/28 [==============================] - 0s 5ms/step - loss: 30.2206 - mse: 30.2206 - val_loss: 27.0994 - val_mse: 27.0994\n",
            "Epoch 3/20\n",
            "28/28 [==============================] - 0s 3ms/step - loss: 26.8888 - mse: 26.8888 - val_loss: 24.5274 - val_mse: 24.5274\n",
            "Epoch 4/20\n",
            "28/28 [==============================] - 0s 3ms/step - loss: 24.1657 - mse: 24.1657 - val_loss: 22.5157 - val_mse: 22.5157\n",
            "Epoch 5/20\n",
            "28/28 [==============================] - 0s 3ms/step - loss: 21.9086 - mse: 21.9086 - val_loss: 20.9220 - val_mse: 20.9220\n",
            "Epoch 6/20\n",
            "28/28 [==============================] - 0s 4ms/step - loss: 20.1248 - mse: 20.1248 - val_loss: 19.5804 - val_mse: 19.5804\n",
            "Epoch 7/20\n",
            "28/28 [==============================] - 0s 3ms/step - loss: 18.5631 - mse: 18.5631 - val_loss: 18.7069 - val_mse: 18.7069\n",
            "Epoch 8/20\n",
            "28/28 [==============================] - 0s 3ms/step - loss: 17.2880 - mse: 17.2880 - val_loss: 17.7632 - val_mse: 17.7632\n",
            "Epoch 9/20\n",
            "28/28 [==============================] - 0s 3ms/step - loss: 16.0714 - mse: 16.0714 - val_loss: 17.2533 - val_mse: 17.2533\n",
            "Epoch 10/20\n",
            "28/28 [==============================] - 0s 4ms/step - loss: 15.3614 - mse: 15.3614 - val_loss: 16.9942 - val_mse: 16.9942\n",
            "Epoch 11/20\n",
            "28/28 [==============================] - 0s 3ms/step - loss: 14.4456 - mse: 14.4456 - val_loss: 16.3527 - val_mse: 16.3527\n",
            "Epoch 12/20\n",
            "28/28 [==============================] - 0s 4ms/step - loss: 13.6876 - mse: 13.6876 - val_loss: 16.0837 - val_mse: 16.0837\n",
            "Epoch 13/20\n",
            "28/28 [==============================] - 0s 4ms/step - loss: 13.1492 - mse: 13.1492 - val_loss: 15.7924 - val_mse: 15.7924\n",
            "Epoch 14/20\n",
            "28/28 [==============================] - 0s 4ms/step - loss: 12.5992 - mse: 12.5992 - val_loss: 15.5146 - val_mse: 15.5146\n",
            "Epoch 15/20\n",
            "28/28 [==============================] - 0s 5ms/step - loss: 12.1714 - mse: 12.1714 - val_loss: 15.3521 - val_mse: 15.3521\n",
            "Epoch 16/20\n",
            "28/28 [==============================] - 0s 3ms/step - loss: 11.6814 - mse: 11.6814 - val_loss: 15.1356 - val_mse: 15.1356\n",
            "Epoch 17/20\n",
            "28/28 [==============================] - 0s 4ms/step - loss: 11.4012 - mse: 11.4012 - val_loss: 15.0169 - val_mse: 15.0169\n",
            "Epoch 18/20\n",
            "28/28 [==============================] - 0s 3ms/step - loss: 11.0429 - mse: 11.0429 - val_loss: 14.8544 - val_mse: 14.8544\n",
            "Epoch 19/20\n",
            "28/28 [==============================] - 0s 3ms/step - loss: 10.7254 - mse: 10.7254 - val_loss: 14.6642 - val_mse: 14.6642\n",
            "Epoch 20/20\n",
            "28/28 [==============================] - 0s 4ms/step - loss: 10.5858 - mse: 10.5858 - val_loss: 14.5056 - val_mse: 14.5056\n"
          ]
        }
      ]
    },
    {
      "cell_type": "markdown",
      "source": [
        "평가 데이터를 통한 예측 및 결과 확인"
      ],
      "metadata": {
        "id": "yS5RTXsXh-5U"
      }
    },
    {
      "cell_type": "code",
      "source": [
        "from sklearn.metrics import r2_score, mean_squared_error\n",
        "\n",
        "\n",
        "# 학습 성능 (예측력) 확인하기: R² 와 RMSE (test data)\n",
        "y_pred = model.predict(test_x)\n",
        "R2 = r2_score(test_y, y_pred)    #r2_score(실재값, 예측값)\n",
        "RMSE = mean_squared_error(test_y, y_pred)**(1/2)\n",
        "\n",
        "\n",
        "# 학습 성능 (예측력) 확인하기\n",
        "print('test data 성과평가', R2, RMSE)\n",
        "\n",
        "# R2 0.79 : 설명력(정확도X) -> 사용한 독립변수 8개가 가격을 예측하는데 약 79% 유의하다.\n",
        "# RMSE 3.7 : 예측한 값에서 3.7정도 차이가 날 수 있다.(ex : 20으로 예측을 한다면 -> 18~22 사이에 있다)"
      ],
      "metadata": {
        "colab": {
          "base_uri": "https://localhost:8080/"
        },
        "id": "A5DgCwd8hQGQ",
        "outputId": "4b5c712f-9574-4701-e86a-4b465caddbc1"
      },
      "execution_count": null,
      "outputs": [
        {
          "output_type": "stream",
          "name": "stdout",
          "text": [
            "4/4 [==============================] - 0s 4ms/step\n",
            "test data 성과평가 0.8238589477508071 3.2341348503492724\n"
          ]
        }
      ]
    },
    {
      "cell_type": "code",
      "source": [
        "print(test_y[:10])"
      ],
      "metadata": {
        "colab": {
          "base_uri": "https://localhost:8080/"
        },
        "id": "VJFHEOjCiIka",
        "outputId": "93868564-ecef-4ff6-f982-1880ffe44c00"
      },
      "execution_count": null,
      "outputs": [
        {
          "output_type": "stream",
          "name": "stdout",
          "text": [
            "289    19.2\n",
            "384    32.0\n",
            "107    20.0\n",
            "381    38.0\n",
            "88     15.0\n",
            "307    41.5\n",
            "45     22.0\n",
            "166    23.0\n",
            "346    34.7\n",
            "229    15.5\n",
            "Name: MPG, dtype: float64\n"
          ]
        }
      ]
    },
    {
      "cell_type": "code",
      "source": [
        "print(y_pred[:10])"
      ],
      "metadata": {
        "colab": {
          "base_uri": "https://localhost:8080/"
        },
        "id": "S35nogTUjL0G",
        "outputId": "6e830068-2b5e-4c0a-89e6-7ca5307cf586"
      },
      "execution_count": null,
      "outputs": [
        {
          "output_type": "stream",
          "name": "stdout",
          "text": [
            "[[19.264479]\n",
            " [30.605618]\n",
            " [27.695131]\n",
            " [28.138508]\n",
            " [13.745037]\n",
            " [31.729517]\n",
            " [26.17075 ]\n",
            " [22.20749 ]\n",
            " [34.123035]\n",
            " [16.58493 ]]\n"
          ]
        }
      ]
    }
  ]
}
