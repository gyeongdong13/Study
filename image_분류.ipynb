{
  "cells": [
    {
      "cell_type": "markdown",
      "metadata": {
        "id": "view-in-github",
        "colab_type": "text"
      },
      "source": [
        "<a href=\"https://colab.research.google.com/github/gyeongdong13/Study/blob/main/image_%EB%B6%84%EB%A5%98.ipynb\" target=\"_parent\"><img src=\"https://colab.research.google.com/assets/colab-badge.svg\" alt=\"Open In Colab\"/></a>"
      ]
    },
    {
      "cell_type": "code",
      "execution_count": null,
      "metadata": {
        "id": "rgDiDiOkvl9R"
      },
      "outputs": [],
      "source": [
        "import numpy as np\n",
        "import os\n",
        "from keras.datasets import cifar10\n",
        "from keras.models import Sequential\n",
        "from keras.layers.core import Dense, Dropout, Activation\n",
        "from keras.optimizers import Adam\n",
        "from keras.utils import np_utils"
      ]
    },
    {
      "cell_type": "code",
      "execution_count": null,
      "metadata": {
        "id": "3RJ9X-7IvmpT"
      },
      "outputs": [],
      "source": [
        "np.random.seed(100)\n",
        "(X_train, y_train), (X_test, y_test) = cifar10.load_data()"
      ]
    },
    {
      "cell_type": "code",
      "execution_count": null,
      "metadata": {
        "colab": {
          "base_uri": "https://localhost:8080/"
        },
        "id": "6zJMdQ4mvqX1",
        "outputId": "0e31ec25-2252-47a5-ca5a-535d3d24377f"
      },
      "outputs": [
        {
          "name": "stdout",
          "output_type": "stream",
          "text": [
            "(50000, 32, 32, 3)\n",
            "(50000, 1)\n"
          ]
        }
      ],
      "source": [
        "print(X_train.shape)\n",
        "print(y_train.shape)"
      ]
    },
    {
      "cell_type": "code",
      "execution_count": null,
      "metadata": {
        "colab": {
          "base_uri": "https://localhost:8080/"
        },
        "id": "GMlyTWa2vr7f",
        "outputId": "d4e916b0-1a91-4c3a-b11d-1bb2b44084bf"
      },
      "outputs": [
        {
          "name": "stdout",
          "output_type": "stream",
          "text": [
            "(10000, 32, 32, 3)\n",
            "(10000, 1)\n"
          ]
        }
      ],
      "source": [
        "print(X_test.shape)\n",
        "print(y_test.shape)"
      ]
    },
    {
      "cell_type": "code",
      "execution_count": null,
      "metadata": {
        "id": "zmlD-S34vtuN"
      },
      "outputs": [],
      "source": [
        "# 데이터 전처리\n",
        "X_train = X_train.reshape(50000,3072)\n",
        "X_test = X_test.reshape(10000,3072)\n",
        "\n",
        "X_train = (X_train-np.mean(X_train)) / np.std(X_train)\n",
        "X_test = (X_test-np.mean(X_test)) / np.std(X_test)"
      ]
    },
    {
      "cell_type": "code",
      "execution_count": null,
      "metadata": {
        "colab": {
          "base_uri": "https://localhost:8080/"
        },
        "id": "KQ7xzSh6wfdA",
        "outputId": "bdc9520e-f796-4d2f-9ded-dfc878a9173b"
      },
      "outputs": [
        {
          "data": {
            "text/plain": [
              "array([[0., 0., 0., ..., 0., 0., 0.],\n",
              "       [0., 0., 0., ..., 0., 0., 1.],\n",
              "       [0., 0., 0., ..., 0., 0., 1.],\n",
              "       ...,\n",
              "       [0., 0., 0., ..., 0., 0., 1.],\n",
              "       [0., 1., 0., ..., 0., 0., 0.],\n",
              "       [0., 1., 0., ..., 0., 0., 0.]], dtype=float32)"
            ]
          },
          "execution_count": 56,
          "metadata": {},
          "output_type": "execute_result"
        }
      ],
      "source": [
        "labels = 10\n",
        "Y_train = np_utils.to_categorical(y_train, labels)\n",
        "Y_test = np_utils.to_categorical(y_test, labels)\n",
        "Y_train"
      ]
    },
    {
      "cell_type": "code",
      "execution_count": null,
      "metadata": {
        "id": "CCDIe0WXwrLX"
      },
      "outputs": [],
      "source": [
        "model = Sequential()\n",
        "\n",
        "# fist layer\n",
        "model.add(Dense(512, input_shape=(3072,)))\n",
        "model.add(Activation(\"relu\"))\n",
        "model.add(Dropout(0.4))\n",
        "\n",
        "# second layer\n",
        "model.add(Dense(120))\n",
        "model.add(Activation(\"relu\"))\n",
        "model.add(Dropout(0.2))\n",
        "\n",
        "# third layer\n",
        "model.add(Dense(labels))\n",
        "model.add(Activation(\"sigmoid\"))\n"
      ]
    },
    {
      "cell_type": "code",
      "execution_count": null,
      "metadata": {
        "id": "RGskpxTcSSNC"
      },
      "outputs": [],
      "source": [
        "adam = Adam(0.01)\n",
        "model.compile(loss=\"categorical_crossentropy\", optimizer=adam, metrics=[\"accuracy\"])"
      ]
    },
    {
      "cell_type": "code",
      "execution_count": null,
      "metadata": {
        "colab": {
          "base_uri": "https://localhost:8080/"
        },
        "id": "YOq-fmSfSdhr",
        "outputId": "3b89776d-5b39-4b66-c83c-b024f6637a4f"
      },
      "outputs": [
        {
          "name": "stdout",
          "output_type": "stream",
          "text": [
            "Epoch 1/10\n",
            "50/50 [==============================] - 11s 215ms/step - loss: 5.0111 - accuracy: 0.1068 - val_loss: 2.3027 - val_accuracy: 0.1000\n",
            "Epoch 2/10\n",
            "50/50 [==============================] - 14s 269ms/step - loss: 2.3027 - accuracy: 0.0981 - val_loss: 2.3026 - val_accuracy: 0.1000\n",
            "Epoch 3/10\n",
            "50/50 [==============================] - 9s 189ms/step - loss: 2.3027 - accuracy: 0.0976 - val_loss: 2.3026 - val_accuracy: 0.1000\n",
            "Epoch 4/10\n",
            "50/50 [==============================] - 10s 205ms/step - loss: 2.3027 - accuracy: 0.0968 - val_loss: 2.3026 - val_accuracy: 0.1000\n",
            "Epoch 5/10\n",
            "50/50 [==============================] - 11s 219ms/step - loss: 2.3028 - accuracy: 0.0992 - val_loss: 2.3026 - val_accuracy: 0.1000\n",
            "Epoch 6/10\n",
            "50/50 [==============================] - 8s 164ms/step - loss: 2.3028 - accuracy: 0.0984 - val_loss: 2.3026 - val_accuracy: 0.1000\n",
            "Epoch 7/10\n",
            "50/50 [==============================] - 7s 140ms/step - loss: 2.3028 - accuracy: 0.0992 - val_loss: 2.3026 - val_accuracy: 0.1000\n",
            "Epoch 8/10\n",
            "50/50 [==============================] - 8s 157ms/step - loss: 2.3028 - accuracy: 0.0990 - val_loss: 2.3026 - val_accuracy: 0.1000\n",
            "Epoch 9/10\n",
            "50/50 [==============================] - 8s 161ms/step - loss: 2.3028 - accuracy: 0.0989 - val_loss: 2.3026 - val_accuracy: 0.1000\n",
            "Epoch 10/10\n",
            "50/50 [==============================] - 7s 137ms/step - loss: 2.3027 - accuracy: 0.0987 - val_loss: 2.3026 - val_accuracy: 0.1000\n"
          ]
        },
        {
          "data": {
            "text/plain": [
              "<keras.callbacks.History at 0x7f9d50dc5f60>"
            ]
          },
          "execution_count": 63,
          "metadata": {},
          "output_type": "execute_result"
        }
      ],
      "source": [
        "model.fit(X_train, Y_train, batch_size=1000, epochs=10, validation_data=(X_test,Y_test))"
      ]
    },
    {
      "cell_type": "code",
      "execution_count": null,
      "metadata": {
        "colab": {
          "base_uri": "https://localhost:8080/"
        },
        "id": "CHG5spI5Smkq",
        "outputId": "81f9f353-9436-45b5-84c2-46be2df38bfa"
      },
      "outputs": [
        {
          "name": "stdout",
          "output_type": "stream",
          "text": [
            "Loss =  2.3026225566864014 Test Accuracy(정답률): 10.000000149011612\n"
          ]
        }
      ],
      "source": [
        "score = model.evaluate(X_test, Y_test, verbose=0)\n",
        "print(\"Loss = \",score[0], \"Test Accuracy(정답률):\", score[1]*100)"
      ]
    },
    {
      "cell_type": "code",
      "execution_count": null,
      "metadata": {
        "id": "ZhVqoBZBTBsb"
      },
      "outputs": [],
      "source": [
        "y_prob = model.predict(X_test, verbose=0)\n",
        "predicted = y_prob.argmax(axis=-1)"
      ]
    },
    {
      "cell_type": "code",
      "execution_count": null,
      "metadata": {
        "colab": {
          "base_uri": "https://localhost:8080/"
        },
        "id": "nSbm8UEsTgSF",
        "outputId": "8ab55e90-3167-448a-eff9-5f912d4977dc"
      },
      "outputs": [
        {
          "data": {
            "text/plain": [
              "array([[0.4994513 , 0.5061472 , 0.4999765 , ..., 0.50065166, 0.5050784 ,\n",
              "        0.504026  ],\n",
              "       [0.4994513 , 0.5061472 , 0.4999765 , ..., 0.50065166, 0.5050784 ,\n",
              "        0.504026  ],\n",
              "       [0.4994513 , 0.5061472 , 0.4999765 , ..., 0.50065166, 0.5050784 ,\n",
              "        0.504026  ],\n",
              "       ...,\n",
              "       [0.4994513 , 0.5061472 , 0.4999765 , ..., 0.50065166, 0.5050784 ,\n",
              "        0.504026  ],\n",
              "       [0.4994513 , 0.5061472 , 0.4999765 , ..., 0.50065166, 0.5050784 ,\n",
              "        0.504026  ],\n",
              "       [0.4994513 , 0.5061472 , 0.4999765 , ..., 0.50065166, 0.5050784 ,\n",
              "        0.504026  ]], dtype=float32)"
            ]
          },
          "execution_count": 70,
          "metadata": {},
          "output_type": "execute_result"
        }
      ],
      "source": [
        "y_prob"
      ]
    },
    {
      "cell_type": "code",
      "execution_count": null,
      "metadata": {
        "colab": {
          "base_uri": "https://localhost:8080/"
        },
        "id": "_lE7aGPWVYZs",
        "outputId": "30e82907-5743-4c8f-834a-dbdcfa04ae6e"
      },
      "outputs": [
        {
          "name": "stdout",
          "output_type": "stream",
          "text": [
            "Downloading data from https://storage.googleapis.com/tensorflow/tf-keras-datasets/mnist.npz\n",
            "11490434/11490434 [==============================] - 0s 0us/step\n"
          ]
        }
      ],
      "source": [
        "import tensorflow as tf\n",
        "\n",
        "mnist = tf.keras.datasets.mnist\n",
        "(X_train, Y_train), (X_test, Y_test) = mnist.load_data()\n",
        "X_train, X_test = X_train/255.0, X_test/255.0\n",
        "\n",
        "x_train = X_train.reshape(60000,784).astype(\"float32\")\n",
        "x_test = X_test.reshape(10000,784).astype(\"float32\")\n",
        "\n",
        "nb_classes=10\n",
        "\n",
        "y_train_one_hot = tf.one_hot(Y_train,nb_classes).numpy()\n",
        "y_test_one_hot = tf.one_hot(Y_test,nb_classes).numpy()"
      ]
    },
    {
      "cell_type": "code",
      "execution_count": null,
      "metadata": {
        "colab": {
          "base_uri": "https://localhost:8080/"
        },
        "id": "nSixIZdRYIc9",
        "outputId": "9b1f7434-7e3a-42b2-bb3d-2b64a4e723a2"
      },
      "outputs": [
        {
          "data": {
            "text/plain": [
              "array([[0., 0., 0., ..., 1., 0., 0.],\n",
              "       [0., 0., 1., ..., 0., 0., 0.],\n",
              "       [0., 1., 0., ..., 0., 0., 0.],\n",
              "       ...,\n",
              "       [0., 0., 0., ..., 0., 0., 0.],\n",
              "       [0., 0., 0., ..., 0., 0., 0.],\n",
              "       [0., 0., 0., ..., 0., 0., 0.]], dtype=float32)"
            ]
          },
          "execution_count": 72,
          "metadata": {},
          "output_type": "execute_result"
        }
      ],
      "source": [
        "y_test_one_hot"
      ]
    },
    {
      "cell_type": "code",
      "execution_count": null,
      "metadata": {
        "colab": {
          "base_uri": "https://localhost:8080/"
        },
        "id": "PmE66UI9Ye6V",
        "outputId": "8ef6d7e0-1cfb-495e-f388-1bc984a10d8b"
      },
      "outputs": [
        {
          "data": {
            "text/plain": [
              "array([[0., 0., 0., ..., 0., 0., 0.],\n",
              "       [0., 0., 0., ..., 0., 0., 0.],\n",
              "       [0., 0., 0., ..., 0., 0., 0.],\n",
              "       ...,\n",
              "       [0., 0., 0., ..., 0., 0., 0.],\n",
              "       [0., 0., 0., ..., 0., 0., 0.],\n",
              "       [0., 0., 0., ..., 0., 0., 0.]], dtype=float32)"
            ]
          },
          "execution_count": 73,
          "metadata": {},
          "output_type": "execute_result"
        }
      ],
      "source": [
        "x_train"
      ]
    },
    {
      "cell_type": "code",
      "execution_count": null,
      "metadata": {
        "id": "iIqRoUSeXm1W"
      },
      "outputs": [],
      "source": [
        "W = tf.Variable(tf.random.normal([784, nb_classes]), name=\"weight\")\n",
        "B = tf.Variable(tf.random.normal([nb_classes]), name=\"bias\")\n",
        "\n",
        "def Hypothesis(X) :\n",
        "  logits = tf.add(tf.matmul(tf.cast(X, tf.float32), W), B)\n",
        "  return tf.nn.softmax(logits)\n",
        "\n",
        "def loss(H,Y) :\n",
        "  entropy = -tf.reduce_sum(Y * tf.math.log(H), axis=1)\n",
        "  cost = tf.reduce_mean(entropy)\n",
        "  return cost"
      ]
    },
    {
      "cell_type": "code",
      "execution_count": null,
      "metadata": {
        "id": "72ASQ9fwZhx0"
      },
      "outputs": [],
      "source": [
        "def train(X,Y,learning_rate=0.1) :\n",
        "  with tf.GradientTape() as tape :\n",
        "    _loss = loss(Hypothesis(X),Y)\n",
        "  _w, _b = tape.gradient(_loss, [W,B])\n",
        "  W.assign_sub(learning_rate*_w)\n",
        "  B.assign_sub(learning_rate*_b)\n",
        "\n",
        "def evaluation(H,Y) :\n",
        "  prediction = tf.argmax(H,1)\n",
        "  correct_prediction = tf.equal(prediction, tf.argmax(Y,1))\n",
        "  accuracy = tf.reduce_mean(tf.cast(correct_prediction, tf.float32))\n",
        "  return prediction, accuracy"
      ]
    },
    {
      "cell_type": "code",
      "execution_count": null,
      "metadata": {
        "colab": {
          "base_uri": "https://localhost:8080/"
        },
        "id": "3Hb7DDBsaQyJ",
        "outputId": "bfecc938-dc11-4680-b9d9-959ee4863ccd"
      },
      "outputs": [
        {
          "name": "stdout",
          "output_type": "stream",
          "text": [
            "Epoch:  1 loss : 0.0021838454995304346\n",
            "Epoch:  2 loss : 0.001686281175352633\n",
            "Epoch:  3 loss : 0.0015150463441386819\n",
            "Epoch:  4 loss : 0.0014188530622050166\n",
            "Epoch:  5 loss : 0.0013529566349461675\n",
            "Epoch:  6 loss : 0.001301746815443039\n",
            "Epoch:  7 loss : 0.0012582753552123904\n",
            "Epoch:  8 loss : 0.0012194592272862792\n",
            "Epoch:  9 loss : 0.0011839063372462988\n",
            "Epoch: 10 loss : 0.00115099991671741\n",
            "Epoch: 11 loss : 0.0011204448528587818\n",
            "Epoch: 12 loss : 0.0010920402128249407\n",
            "Epoch: 13 loss : 0.0010656067170202732\n",
            "Epoch: 14 loss : 0.0010409671813249588\n",
            "Epoch: 15 loss : 0.0010179501259699464\n",
            "Epoch: 16 loss : 0.0009963935008272529\n",
            "Epoch: 17 loss : 0.0009761512046679854\n",
            "Epoch: 18 loss : 0.0009570926195010543\n",
            "Epoch: 19 loss : 0.0009391027851961553\n",
            "Epoch: 20 loss : 0.000922083156183362\n",
            "Epoch: 21 loss : 0.0009059479925781488\n",
            "Epoch: 22 loss : 0.0008906232542358339\n",
            "Epoch: 23 loss : 0.0008760442142374814\n",
            "Epoch: 24 loss : 0.0008621542365290225\n",
            "Epoch: 25 loss : 0.0008489039610140026\n",
            "Epoch: 26 loss : 0.0008362496155314147\n",
            "Epoch: 27 loss : 0.0008241513278335333\n",
            "Epoch: 28 loss : 0.0008125732420012355\n",
            "Epoch: 29 loss : 0.0008014824707061052\n",
            "Epoch: 30 loss : 0.0007908491534180939\n",
            "Epoch: 31 loss : 0.0007806459907442331\n",
            "Epoch: 32 loss : 0.0007708464981988072\n",
            "Epoch: 33 loss : 0.0007614278583787382\n",
            "Epoch: 34 loss : 0.0007523681269958615\n",
            "Epoch: 35 loss : 0.0007436464074999094\n",
            "Epoch: 36 loss : 0.0007352445391006768\n",
            "Epoch: 37 loss : 0.0007271443028002977\n",
            "Epoch: 38 loss : 0.0007193300989456475\n",
            "Epoch: 39 loss : 0.0007117863278836012\n",
            "Epoch: 40 loss : 0.0007044999510981143\n",
            "Epoch: 41 loss : 0.0006974577554501593\n",
            "Epoch: 42 loss : 0.0006906478083692491\n",
            "Epoch: 43 loss : 0.0006840586429461837\n",
            "Epoch: 44 loss : 0.0006776804802939296\n",
            "Epoch: 45 loss : 0.0006715032504871488\n",
            "Epoch: 46 loss : 0.0006655179313383996\n",
            "Epoch: 47 loss : 0.0006597169558517635\n",
            "Epoch: 48 loss : 0.0006540915346704423\n",
            "Epoch: 49 loss : 0.0006486345082521439\n",
            "Epoch: 50 loss : 0.0006433393573388457\n",
            "\n",
            "Accuracy...\n",
            "\n",
            "Accuracy = 0.9139\n"
          ]
        }
      ],
      "source": [
        "training_epochs = 50\n",
        "batch_size = 100\n",
        "\n",
        "for epoch in range(training_epochs) :\n",
        "  avg_cost=0\n",
        "  iterations = int(len(x_train) / batch_size)\n",
        "\n",
        "  idx = 0\n",
        "  for i in range(iterations) :\n",
        "    batch_xs, batch_ys = x_train[idx:idx+batch_size, :], y_train_one_hot[idx:idx+batch_size,:]\n",
        "    _c = loss(Hypothesis(batch_xs), batch_ys)\n",
        "    train(batch_xs, batch_ys, learning_rate=0.15)\n",
        "    avg_cost = _c / iterations\n",
        "    idx += batch_size\n",
        "  print(\"Epoch: {:2d} loss : {}\".format(epoch+1, avg_cost))\n",
        "\n",
        "print(\"\\nAccuracy...\")\n",
        "_h = Hypothesis(x_test)\n",
        "_p,_a = evaluation(_h,y_test_one_hot)\n",
        "print(\"\\nAccuracy =\", _a.numpy())"
      ]
    },
    {
      "cell_type": "code",
      "execution_count": null,
      "metadata": {
        "colab": {
          "base_uri": "https://localhost:8080/",
          "height": 261
        },
        "id": "IiFXXdmYbYfX",
        "outputId": "ccb3e4ad-bf5a-462b-aab3-10dbc7b48a9a"
      },
      "outputs": [
        {
          "data": {
            "image/png": "[encoded data removed]",
            "text/plain": [
              "<Figure size 800x200 with 36 Axes>"
            ]
          },
          "metadata": {},
          "output_type": "display_data"
        },
        {
          "name": "stdout",
          "output_type": "stream",
          "text": [
            "(60000, 28, 28) float64\n",
            "(60000,) uint8\n",
            "(10000, 28, 28) float64\n",
            "(10000,) uint8\n"
          ]
        }
      ],
      "source": [
        "import matplotlib.pyplot as plt\n",
        "\n",
        "mnist = tf.keras.datasets.mnist\n",
        "(X_train, Y_train), (X_test, Y_test) = mnist.load_data()\n",
        "X_train, X_test = X_train/255.0, X_test/255.0\n",
        "\n",
        "plt.figure(figsize=(8,2))\n",
        "for i in range(36) :\n",
        "  plt.subplot(3,12,i+1)\n",
        "  plt.imshow(X_train[i], cmap=\"gray\")\n",
        "  plt.axis(\"off\")\n",
        "plt.show()\n",
        "\n",
        "print(X_train.shape, X_train.dtype)\n",
        "print(Y_train.shape, Y_train.dtype)\n",
        "print(X_test.shape, X_test.dtype)\n",
        "print(Y_test.shape, Y_test.dtype)"
      ]
    },
    {
      "cell_type": "code",
      "execution_count": null,
      "metadata": {
        "id": "gQAVYIl3gxS9"
      },
      "outputs": [],
      "source": [
        "model = tf.keras.models.Sequential([tf.keras.layers.Flatten(input_shape=(28,28)),\n",
        "                                    tf.keras.layers.Dense(10,input_dim=784,activation=\"softmax\")])"
      ]
    },
    {
      "cell_type": "code",
      "execution_count": null,
      "metadata": {
        "colab": {
          "base_uri": "https://localhost:8080/"
        },
        "id": "WLS3GVCqf2YT",
        "outputId": "b0cfa5c9-5b79-45a3-d930-317d37bf425e"
      },
      "outputs": [
        {
          "name": "stdout",
          "output_type": "stream",
          "text": [
            "Model: \"sequential_1\"\n",
            "_________________________________________________________________\n",
            " Layer (type)                Output Shape              Param #   \n",
            "=================================================================\n",
            " flatten (Flatten)           (None, 784)               0         \n",
            "                                                                 \n",
            " dense_10 (Dense)            (None, 10)                7850      \n",
            "                                                                 \n",
            "=================================================================\n",
            "Total params: 7,850\n",
            "Trainable params: 7,850\n",
            "Non-trainable params: 0\n",
            "_________________________________________________________________\n",
            "Epoch 1/15\n",
            "600/600 - 3s - loss: 0.6315 - accuracy: 0.8399 - val_loss: 0.3636 - val_accuracy: 0.9041 - 3s/epoch - 4ms/step\n",
            "Epoch 2/15\n",
            "600/600 - 1s - loss: 0.3477 - accuracy: 0.9054 - val_loss: 0.3098 - val_accuracy: 0.9137 - 1s/epoch - 2ms/step\n",
            "Epoch 3/15\n",
            "600/600 - 2s - loss: 0.3105 - accuracy: 0.9147 - val_loss: 0.2905 - val_accuracy: 0.9193 - 2s/epoch - 3ms/step\n",
            "Epoch 4/15\n",
            "600/600 - 2s - loss: 0.2930 - accuracy: 0.9186 - val_loss: 0.2811 - val_accuracy: 0.9219 - 2s/epoch - 3ms/step\n",
            "Epoch 5/15\n",
            "600/600 - 1s - loss: 0.2825 - accuracy: 0.9213 - val_loss: 0.2764 - val_accuracy: 0.9228 - 1s/epoch - 2ms/step\n",
            "Epoch 6/15\n",
            "600/600 - 1s - loss: 0.2759 - accuracy: 0.9233 - val_loss: 0.2724 - val_accuracy: 0.9240 - 1s/epoch - 2ms/step\n",
            "Epoch 7/15\n",
            "600/600 - 1s - loss: 0.2700 - accuracy: 0.9244 - val_loss: 0.2684 - val_accuracy: 0.9266 - 1s/epoch - 2ms/step\n",
            "Epoch 8/15\n",
            "600/600 - 1s - loss: 0.2659 - accuracy: 0.9256 - val_loss: 0.2675 - val_accuracy: 0.9248 - 1s/epoch - 2ms/step\n",
            "Epoch 9/15\n",
            "600/600 - 1s - loss: 0.2627 - accuracy: 0.9263 - val_loss: 0.2646 - val_accuracy: 0.9268 - 1s/epoch - 2ms/step\n",
            "Epoch 10/15\n",
            "600/600 - 1s - loss: 0.2595 - accuracy: 0.9279 - val_loss: 0.2653 - val_accuracy: 0.9264 - 1s/epoch - 2ms/step\n",
            "Epoch 11/15\n",
            "600/600 - 1s - loss: 0.2566 - accuracy: 0.9289 - val_loss: 0.2678 - val_accuracy: 0.9243 - 1s/epoch - 2ms/step\n",
            "Epoch 12/15\n",
            "600/600 - 1s - loss: 0.2551 - accuracy: 0.9295 - val_loss: 0.2674 - val_accuracy: 0.9253 - 1s/epoch - 2ms/step\n",
            "Epoch 13/15\n",
            "600/600 - 1s - loss: 0.2533 - accuracy: 0.9299 - val_loss: 0.2625 - val_accuracy: 0.9275 - 1s/epoch - 2ms/step\n",
            "Epoch 14/15\n",
            "600/600 - 2s - loss: 0.2516 - accuracy: 0.9302 - val_loss: 0.2643 - val_accuracy: 0.9262 - 2s/epoch - 3ms/step\n",
            "Epoch 15/15\n",
            "600/600 - 1s - loss: 0.2505 - accuracy: 0.9311 - val_loss: 0.2625 - val_accuracy: 0.9277 - 1s/epoch - 2ms/step\n",
            "100/100 - 0s - loss: 0.2625 - accuracy: 0.9277 - 151ms/epoch - 2ms/step\n"
          ]
        },
        {
          "data": {
            "text/plain": [
              "[0.2624502182006836, 0.9276999831199646]"
            ]
          },
          "execution_count": 80,
          "metadata": {},
          "output_type": "execute_result"
        }
      ],
      "source": [
        "model.compile(optimizer=\"adam\", loss=\"sparse_categorical_crossentropy\", metrics=[\"accuracy\"])\n",
        "model.summary()\n",
        "\n",
        "hist = model.fit(X_train, Y_train, validation_data = (X_test, Y_test), verbose=2, batch_size=100, epochs=15, use_multiprocessing=True)\n",
        "\n",
        "model.evaluate(X_test, Y_test, verbose=2, batch_size=100, use_multiprocessing=True)"
      ]
    },
    {
      "cell_type": "code",
      "execution_count": null,
      "metadata": {
        "colab": {
          "base_uri": "https://localhost:8080/",
          "height": 407
        },
        "id": "saaaMHkVijOO",
        "outputId": "6dc6e68a-b936-4696-fe11-68524461909b"
      },
      "outputs": [
        {
          "data": {
            "image/png": "[encoded data removed]",
            "text/plain": [
              "<Figure size 800x400 with 2 Axes>"
            ]
          },
          "metadata": {},
          "output_type": "display_data"
        }
      ],
      "source": [
        "plt.figure(figsize=(8,4))\n",
        "plt.subplot(1,2,1)\n",
        "plt.plot(hist.history[\"loss\"])\n",
        "plt.title(\"Cost Graph\")\n",
        "plt.ylabel(\"cost\")\n",
        "plt.subplot(1,2,2)\n",
        "plt.title(\"Accuracy Graph\")\n",
        "plt.ylabel(\"accuracy\")\n",
        "plt.plot(hist.history[\"accuracy\"], \"b-\", label=\"training accuracy\")\n",
        "plt.plot(hist.history[\"val_accuracy\"], \"r:\", label=\"validation accuracy\")\n",
        "plt.legend()\n",
        "plt.tight_layout()\n",
        "plt.show()"
      ]
    },
    {
      "cell_type": "code",
      "execution_count": null,
      "metadata": {
        "colab": {
          "base_uri": "https://localhost:8080/",
          "height": 514
        },
        "id": "zp9NdO_mleHn",
        "outputId": "8b80ded0-c077-46a9-9fb3-0ce65613c43f"
      },
      "outputs": [
        {
          "name": "stdout",
          "output_type": "stream",
          "text": [
            "1/1 [==============================] - 0s 49ms/step\n",
            "\n",
            "Prediction Result:\n",
            "[[1.8118518e-06 6.5867732e-12 5.2060523e-06 3.8089531e-03 2.4267686e-07\n",
            "  1.8444811e-05 1.3094523e-10 9.9585706e-01 1.4603186e-05 2.9368565e-04]]\n",
            "Predicted class: [7]\n"
          ]
        },
        {
          "data": {
            "image/png": "[encoded data removed]",
            "text/plain": [
              "<Figure size 640x480 with 1 Axes>"
            ]
          },
          "metadata": {},
          "output_type": "display_data"
        }
      ],
      "source": [
        "prediction = model.predict(X_test[:1,:])\n",
        "prediction_class = tf.argmax(prediction,1)\n",
        "print(f\"\\nPrediction Result:\\n{prediction}\")\n",
        "print(f\"Predicted class:\", prediction_class.numpy())\n",
        "\n",
        "plt.imshow(X_test[prediction_class[0]])\n",
        "plt.grid(False)\n",
        "plt.axis(\"off\")\n",
        "plt.show()"
      ]
    },
    {
      "cell_type": "code",
      "execution_count": null,
      "metadata": {
        "colab": {
          "base_uri": "https://localhost:8080/"
        },
        "id": "mgdQ7yLUmA03",
        "outputId": "290f09f5-2360-48cf-e105-910a4fd1ec06"
      },
      "outputs": [
        {
          "name": "stdout",
          "output_type": "stream",
          "text": [
            "Epoch 1/15\n",
            "600/600 - 3s - loss: 0.6162 - accuracy: 0.8486 - val_loss: 0.3609 - val_accuracy: 0.9047 - 3s/epoch - 5ms/step\n",
            "Epoch 2/15\n",
            "600/600 - 1s - loss: 0.3453 - accuracy: 0.9062 - val_loss: 0.3082 - val_accuracy: 0.9159 - 1s/epoch - 2ms/step\n",
            "Epoch 3/15\n",
            "600/600 - 1s - loss: 0.3091 - accuracy: 0.9143 - val_loss: 0.2905 - val_accuracy: 0.9196 - 1s/epoch - 2ms/step\n",
            "Epoch 4/15\n",
            "600/600 - 1s - loss: 0.2920 - accuracy: 0.9194 - val_loss: 0.2809 - val_accuracy: 0.9218 - 1s/epoch - 2ms/step\n",
            "Epoch 5/15\n",
            "600/600 - 1s - loss: 0.2823 - accuracy: 0.9219 - val_loss: 0.2759 - val_accuracy: 0.9224 - 1s/epoch - 2ms/step\n",
            "Epoch 6/15\n",
            "600/600 - 1s - loss: 0.2748 - accuracy: 0.9239 - val_loss: 0.2730 - val_accuracy: 0.9251 - 1s/epoch - 2ms/step\n",
            "Epoch 7/15\n",
            "600/600 - 1s - loss: 0.2697 - accuracy: 0.9248 - val_loss: 0.2694 - val_accuracy: 0.9264 - 1s/epoch - 2ms/step\n",
            "Epoch 8/15\n",
            "600/600 - 1s - loss: 0.2654 - accuracy: 0.9259 - val_loss: 0.2653 - val_accuracy: 0.9265 - 1s/epoch - 2ms/step\n",
            "Epoch 9/15\n",
            "600/600 - 1s - loss: 0.2624 - accuracy: 0.9270 - val_loss: 0.2662 - val_accuracy: 0.9260 - 1s/epoch - 2ms/step\n",
            "Epoch 10/15\n",
            "600/600 - 1s - loss: 0.2596 - accuracy: 0.9283 - val_loss: 0.2666 - val_accuracy: 0.9251 - 1s/epoch - 2ms/step\n",
            "Epoch 11/15\n",
            "600/600 - 2s - loss: 0.2571 - accuracy: 0.9284 - val_loss: 0.2643 - val_accuracy: 0.9273 - 2s/epoch - 3ms/step\n",
            "Epoch 12/15\n",
            "600/600 - 1s - loss: 0.2549 - accuracy: 0.9293 - val_loss: 0.2648 - val_accuracy: 0.9265 - 1s/epoch - 2ms/step\n",
            "Epoch 13/15\n",
            "600/600 - 1s - loss: 0.2528 - accuracy: 0.9299 - val_loss: 0.2624 - val_accuracy: 0.9292 - 1s/epoch - 2ms/step\n",
            "Epoch 14/15\n",
            "600/600 - 1s - loss: 0.2512 - accuracy: 0.9304 - val_loss: 0.2629 - val_accuracy: 0.9280 - 1s/epoch - 2ms/step\n",
            "Epoch 15/15\n",
            "600/600 - 1s - loss: 0.2500 - accuracy: 0.9307 - val_loss: 0.2648 - val_accuracy: 0.9281 - 1s/epoch - 2ms/step\n",
            "100/100 - 0s - loss: 0.2648 - accuracy: 0.9281 - 145ms/epoch - 1ms/step\n",
            "\n",
            "This model has been saved to {file_name}.\n"
          ]
        }
      ],
      "source": [
        "model = tf.keras.models.Sequential([tf.keras.layers.Flatten(input_shape=(28,28)), tf.keras.layers.Dense(10,input_dim=784,activation=\"softmax\")])\n",
        "\n",
        "model.compile(optimizer=\"adam\", loss=\"sparse_categorical_crossentropy\", metrics=[\"accuracy\"])\n",
        "hist = model.fit(X_train, Y_train, validation_data = (X_test, Y_test), verbose=2, batch_size=100, epochs=15, use_multiprocessing=True)\n",
        "model.evaluate(X_test, Y_test, verbose=2, batch_size=100, use_multiprocessing=True)\n",
        "\n",
        "# 모델을 HDF5 파일로 저장\n",
        "file_name = \"softmax_mnist_model.h5\"\n",
        "model.save(file_name)\n",
        "print(\"\\nThis model has been saved to {file_name}.\")"
      ]
    },
    {
      "cell_type": "code",
      "execution_count": null,
      "metadata": {
        "colab": {
          "base_uri": "https://localhost:8080/"
        },
        "id": "0iL8FW2jm_9T",
        "outputId": "31cae9a9-418f-4a7b-a863-8bc77e95f593"
      },
      "outputs": [
        {
          "name": "stdout",
          "output_type": "stream",
          "text": [
            "\n",
            " This model has been loaded from softmax_mnist_model.h5.\n",
            "Epoch 1/15\n",
            "600/600 - 2s - loss: 0.2487 - accuracy: 0.9314 - val_loss: 0.2625 - val_accuracy: 0.9290 - 2s/epoch - 4ms/step\n",
            "Epoch 2/15\n",
            "600/600 - 1s - loss: 0.2471 - accuracy: 0.9319 - val_loss: 0.2628 - val_accuracy: 0.9285 - 1s/epoch - 2ms/step\n",
            "Epoch 3/15\n",
            "600/600 - 1s - loss: 0.2461 - accuracy: 0.9326 - val_loss: 0.2626 - val_accuracy: 0.9286 - 1s/epoch - 2ms/step\n",
            "Epoch 4/15\n",
            "600/600 - 1s - loss: 0.2452 - accuracy: 0.9328 - val_loss: 0.2612 - val_accuracy: 0.9274 - 1s/epoch - 2ms/step\n",
            "Epoch 5/15\n",
            "600/600 - 1s - loss: 0.2443 - accuracy: 0.9324 - val_loss: 0.2633 - val_accuracy: 0.9277 - 1s/epoch - 2ms/step\n",
            "Epoch 6/15\n",
            "600/600 - 1s - loss: 0.2431 - accuracy: 0.9334 - val_loss: 0.2674 - val_accuracy: 0.9246 - 1s/epoch - 2ms/step\n",
            "Epoch 7/15\n",
            "600/600 - 1s - loss: 0.2422 - accuracy: 0.9333 - val_loss: 0.2668 - val_accuracy: 0.9264 - 1s/epoch - 2ms/step\n",
            "Epoch 8/15\n",
            "600/600 - 1s - loss: 0.2415 - accuracy: 0.9338 - val_loss: 0.2636 - val_accuracy: 0.9275 - 1s/epoch - 2ms/step\n",
            "Epoch 9/15\n",
            "600/600 - 2s - loss: 0.2409 - accuracy: 0.9338 - val_loss: 0.2638 - val_accuracy: 0.9285 - 2s/epoch - 3ms/step\n",
            "Epoch 10/15\n",
            "600/600 - 1s - loss: 0.2402 - accuracy: 0.9341 - val_loss: 0.2637 - val_accuracy: 0.9284 - 1s/epoch - 2ms/step\n",
            "Epoch 11/15\n",
            "600/600 - 1s - loss: 0.2399 - accuracy: 0.9337 - val_loss: 0.2640 - val_accuracy: 0.9277 - 1s/epoch - 2ms/step\n",
            "Epoch 12/15\n",
            "600/600 - 1s - loss: 0.2391 - accuracy: 0.9345 - val_loss: 0.2640 - val_accuracy: 0.9284 - 1s/epoch - 2ms/step\n",
            "Epoch 13/15\n",
            "600/600 - 1s - loss: 0.2386 - accuracy: 0.9343 - val_loss: 0.2658 - val_accuracy: 0.9269 - 1s/epoch - 2ms/step\n",
            "Epoch 14/15\n",
            "600/600 - 1s - loss: 0.2380 - accuracy: 0.9345 - val_loss: 0.2648 - val_accuracy: 0.9271 - 1s/epoch - 2ms/step\n",
            "Epoch 15/15\n",
            "600/600 - 1s - loss: 0.2372 - accuracy: 0.9348 - val_loss: 0.2650 - val_accuracy: 0.9283 - 1s/epoch - 2ms/step\n",
            "100/100 - 0s - loss: 0.2650 - accuracy: 0.9283 - 146ms/epoch - 1ms/step\n"
          ]
        },
        {
          "data": {
            "text/plain": [
              "[0.2649843692779541, 0.9283000230789185]"
            ]
          },
          "execution_count": 84,
          "metadata": {},
          "output_type": "execute_result"
        }
      ],
      "source": [
        "file_name = \"softmax_mnist_model.h5\"\n",
        "model=tf.keras.models.load_model(file_name)\n",
        "print(f\"\\n This model has been loaded from {file_name}.\")\n",
        "\n",
        "model.compile(optimizer=\"adam\", loss=\"sparse_categorical_crossentropy\", metrics=[\"accuracy\"])\n",
        "hist = model.fit(X_train, Y_train, validation_data = (X_test, Y_test), verbose=2, batch_size=100, epochs=15, use_multiprocessing=True)\n",
        "model.evaluate(X_test, Y_test, verbose=2, batch_size=100, use_multiprocessing=True)"
      ]
    },
    {
      "cell_type": "code",
      "execution_count": null,
      "metadata": {
        "id": "cDXDAjT4nj6f"
      },
      "outputs": [],
      "source": [
        "mnist = tf.keras.datasets.mnist\n",
        "(X_train, Y_train), (X_test, Y_test) = mnist.load_data()\n",
        "X_train, X_test = X_train / 255.0, X_test / 255.0\n",
        "\n",
        "model = tf.keras.models.Sequential([\n",
        "    tf.keras.layers.Flatten(input_shape=(28,28)),\n",
        "    tf.keras.layers.Dense(1024, activation=\"relu\"),\n",
        "    tf.keras.layers.Dropout(0.3),\n",
        "    tf.keras.layers.Dense(1024, activation=\"relu\"),\n",
        "    tf.keras.layers.Dropout(0.3),\n",
        "    tf.keras.layers.Dense(1024, activation=\"relu\"),\n",
        "    tf.keras.layers.Dropout(0.3),\n",
        "    tf.keras.layers.Dense(512, activation=\"relu\"),\n",
        "    tf.keras.layers.Dense(10, activation=\"softmax\"),\n",
        "])"
      ]
    },
    {
      "cell_type": "code",
      "execution_count": null,
      "metadata": {
        "colab": {
          "base_uri": "https://localhost:8080/"
        },
        "id": "N90_zVUUtzaD",
        "outputId": "d9dea38e-34c4-4a50-82a2-9b742201c7ff"
      },
      "outputs": [
        {
          "name": "stdout",
          "output_type": "stream",
          "text": [
            "Model: \"sequential_3\"\n",
            "_________________________________________________________________\n",
            " Layer (type)                Output Shape              Param #   \n",
            "=================================================================\n",
            " flatten_2 (Flatten)         (None, 784)               0         \n",
            "                                                                 \n",
            " dense_12 (Dense)            (None, 1024)              803840    \n",
            "                                                                 \n",
            " dropout_2 (Dropout)         (None, 1024)              0         \n",
            "                                                                 \n",
            " dense_13 (Dense)            (None, 1024)              1049600   \n",
            "                                                                 \n",
            " dropout_3 (Dropout)         (None, 1024)              0         \n",
            "                                                                 \n",
            " dense_14 (Dense)            (None, 1024)              1049600   \n",
            "                                                                 \n",
            " dropout_4 (Dropout)         (None, 1024)              0         \n",
            "                                                                 \n",
            " dense_15 (Dense)            (None, 512)               524800    \n",
            "                                                                 \n",
            " dense_16 (Dense)            (None, 10)                5130      \n",
            "                                                                 \n",
            "=================================================================\n",
            "Total params: 3,432,970\n",
            "Trainable params: 3,432,970\n",
            "Non-trainable params: 0\n",
            "_________________________________________________________________\n",
            "Epoch 1/15\n",
            "600/600 - 50s - loss: 0.2569 - accuracy: 0.9220 - val_loss: 0.1100 - val_accuracy: 0.9651 - 50s/epoch - 83ms/step\n",
            "Epoch 2/15\n",
            "600/600 - 49s - loss: 0.1265 - accuracy: 0.9622 - val_loss: 0.0871 - val_accuracy: 0.9722 - 49s/epoch - 82ms/step\n",
            "Epoch 3/15\n",
            "600/600 - 46s - loss: 0.0983 - accuracy: 0.9712 - val_loss: 0.0860 - val_accuracy: 0.9751 - 46s/epoch - 77ms/step\n",
            "Epoch 4/15\n",
            "600/600 - 45s - loss: 0.0833 - accuracy: 0.9754 - val_loss: 0.0745 - val_accuracy: 0.9795 - 45s/epoch - 75ms/step\n",
            "Epoch 5/15\n",
            "600/600 - 65s - loss: 0.0716 - accuracy: 0.9787 - val_loss: 0.0734 - val_accuracy: 0.9788 - 65s/epoch - 109ms/step\n",
            "Epoch 6/15\n",
            "600/600 - 45s - loss: 0.0643 - accuracy: 0.9811 - val_loss: 0.0973 - val_accuracy: 0.9758 - 45s/epoch - 75ms/step\n",
            "Epoch 7/15\n",
            "600/600 - 46s - loss: 0.0575 - accuracy: 0.9833 - val_loss: 0.0786 - val_accuracy: 0.9788 - 46s/epoch - 76ms/step\n",
            "Epoch 8/15\n",
            "600/600 - 44s - loss: 0.0572 - accuracy: 0.9841 - val_loss: 0.0818 - val_accuracy: 0.9801 - 44s/epoch - 74ms/step\n",
            "Epoch 9/15\n",
            "600/600 - 46s - loss: 0.0504 - accuracy: 0.9850 - val_loss: 0.0656 - val_accuracy: 0.9833 - 46s/epoch - 77ms/step\n",
            "Epoch 10/15\n",
            "600/600 - 45s - loss: 0.0456 - accuracy: 0.9859 - val_loss: 0.0755 - val_accuracy: 0.9801 - 45s/epoch - 75ms/step\n",
            "Epoch 11/15\n",
            "600/600 - 47s - loss: 0.0476 - accuracy: 0.9868 - val_loss: 0.0801 - val_accuracy: 0.9810 - 47s/epoch - 78ms/step\n",
            "Epoch 12/15\n",
            "600/600 - 45s - loss: 0.0435 - accuracy: 0.9880 - val_loss: 0.0664 - val_accuracy: 0.9831 - 45s/epoch - 75ms/step\n",
            "Epoch 13/15\n",
            "600/600 - 45s - loss: 0.0391 - accuracy: 0.9888 - val_loss: 0.0702 - val_accuracy: 0.9848 - 45s/epoch - 75ms/step\n",
            "Epoch 14/15\n",
            "600/600 - 46s - loss: 0.0406 - accuracy: 0.9881 - val_loss: 0.0702 - val_accuracy: 0.9831 - 46s/epoch - 77ms/step\n",
            "Epoch 15/15\n",
            "600/600 - 45s - loss: 0.0388 - accuracy: 0.9897 - val_loss: 0.0768 - val_accuracy: 0.9836 - 45s/epoch - 76ms/step\n",
            "100/100 - 2s - loss: 0.0768 - accuracy: 0.9836 - 2s/epoch - 18ms/step\n"
          ]
        },
        {
          "data": {
            "text/plain": [
              "[0.07678928226232529, 0.9836000204086304]"
            ]
          },
          "execution_count": 86,
          "metadata": {},
          "output_type": "execute_result"
        }
      ],
      "source": [
        "model.compile(optimizer=\"adam\", loss=\"sparse_categorical_crossentropy\", metrics=[\"accuracy\"])\n",
        "model.summary()\n",
        "hist = model.fit(X_train, Y_train, validation_data = (X_test, Y_test), verbose=2, batch_size=100, epochs=15, use_multiprocessing=True)\n",
        "model.evaluate(X_test, Y_test, verbose=2, batch_size=100, use_multiprocessing=True)"
      ]
    },
    {
      "cell_type": "code",
      "execution_count": null,
      "metadata": {
        "colab": {
          "base_uri": "https://localhost:8080/",
          "height": 407
        },
        "id": "Ixa8PrEkt9Hf",
        "outputId": "0858913b-6296-4dcf-8f2b-bbed5a2bb7f4"
      },
      "outputs": [
        {
          "data": {
            "image/png": "[encoded data removed]",
            "text/plain": [
              "<Figure size 800x400 with 2 Axes>"
            ]
          },
          "metadata": {},
          "output_type": "display_data"
        }
      ],
      "source": [
        "plt.figure(figsize=(8,4))\n",
        "plt.subplot(1,2,1)\n",
        "plt.plot(hist.history[\"loss\"])\n",
        "plt.title(\"Cost Graph\")\n",
        "plt.ylabel(\"cost\")\n",
        "plt.subplot(1,2,2)\n",
        "plt.title(\"Accuracy Graph\")\n",
        "plt.ylabel(\"accuracy\")\n",
        "plt.plot(hist.history[\"accuracy\"], \"b-\", label=\"training accuracy\")\n",
        "plt.plot(hist.history[\"val_accuracy\"], \"r:\", label=\"validation accuracy\")\n",
        "plt.legend()\n",
        "plt.tight_layout()\n",
        "plt.show()"
      ]
    },
    {
      "cell_type": "code",
      "execution_count": null,
      "metadata": {
        "colab": {
          "base_uri": "https://localhost:8080/",
          "height": 562
        },
        "id": "rssy-QFsu5Rc",
        "outputId": "8751cfb6-4ac2-4e54-be11-83196e50736e"
      },
      "outputs": [
        {
          "name": "stdout",
          "output_type": "stream",
          "text": [
            "image.shape = (1, 3, 3, 1)\n",
            "image.reshaped.shape = (3, 3)\n",
            "image.reshaped:\n",
            "[[1. 2. 3.]\n",
            " [4. 5. 6.]\n",
            " [7. 8. 9.]]\n"
          ]
        },
        {
          "data": {
            "text/plain": [
              "<matplotlib.image.AxesImage at 0x7f9d4933dc30>"
            ]
          },
          "execution_count": 88,
          "metadata": {},
          "output_type": "execute_result"
        },
        {
          "data": {
            "image/png": "[encoded data removed]",
            "text/plain": [
              "<Figure size 640x480 with 1 Axes>"
            ]
          },
          "metadata": {},
          "output_type": "display_data"
        }
      ],
      "source": [
        "import os\n",
        "import random\n",
        "os.environ[\"TF_CPP_MIN_LOG_LEVEL\"] = \"3\"\n",
        "\n",
        "image = np.array([[[[1],[2],[3]],\n",
        "                   [[4],[5],[6]],\n",
        "                   [[7],[8],[9]]]], dtype=np.float32)\n",
        "\n",
        "print(\"image.shape =\", image.shape)\n",
        "print(\"image.reshaped.shape =\", image.reshape(3,3).shape)\n",
        "print(\"image.reshaped:\\n\", image.reshape(3,3), sep=\"\")\n",
        "plt.imshow(image.reshape(3,3), cmap=\"gray\")"
      ]
    },
    {
      "cell_type": "code",
      "execution_count": null,
      "metadata": {
        "colab": {
          "base_uri": "https://localhost:8080/"
        },
        "id": "iCPXX_BB1dBT",
        "outputId": "468da769-e0f0-4e63-e088-5d2f72178e20"
      },
      "outputs": [
        {
          "name": "stdout",
          "output_type": "stream",
          "text": [
            "weight.shape = (2, 2, 1, 1)\n",
            "weight.reshaped.shape = (2, 2)\n",
            "weight.reshaped:\n",
            "[[1. 1.]\n",
            " [1. 1.]]\n"
          ]
        }
      ],
      "source": [
        "weight = tf.constant([[[[1.0]], [[1.0]]],\n",
        "                      [[[1.0]], [[1.0]]]])\n",
        "print(\"weight.shape =\", weight.shape)\n",
        "weight_init = tf.constant_initializer(weight.numpy())\n",
        "weight_img = tf.reshape(weight, (2,2))\n",
        "print(\"weight.reshaped.shape =\", weight_img.shape)\n",
        "print(\"weight.reshaped:\\n\", weight_img.numpy(), sep='')"
      ]
    },
    {
      "cell_type": "code",
      "execution_count": null,
      "metadata": {
        "colab": {
          "base_uri": "https://localhost:8080/"
        },
        "id": "y5_4AWqR3_aF",
        "outputId": "9d4c6a6b-83e3-4636-a99d-60bf727f7c71"
      },
      "outputs": [
        {
          "name": "stdout",
          "output_type": "stream",
          "text": [
            "weight.shape = (2, 2, 1, 3)\n",
            "[[1. 1.]\n",
            " [1. 1.]]\n",
            "[[10. 10.]\n",
            " [10. 10.]]\n",
            "[[-1. -1.]\n",
            " [-1. -1.]]\n"
          ]
        }
      ],
      "source": [
        "weight = tf.constant([[[[1.0,10.0,-1.0]], [[1.0,10.0,-1.0]]],\n",
        "                      [[[1.0,10.0,-1.0]], [[1.0,10.0,-1.0]]]])\n",
        "weight_img = weight.numpy()\n",
        "print(\"weight.shape =\", weight.shape)\n",
        "weight_init = tf.constant_initializer(weight.numpy())\n",
        "weight_img = np.swapaxes(weight_img, 0,3)\n",
        "\n",
        "for i, one_img in enumerate(weight_img) :\n",
        "  print(one_img.reshape(2,2))"
      ]
    },
    {
      "cell_type": "code",
      "execution_count": null,
      "metadata": {
        "colab": {
          "base_uri": "https://localhost:8080/",
          "height": 430
        },
        "id": "D57sQNyp6XBZ",
        "outputId": "29ca7799-fd78-4189-e2e1-5af9c6087917"
      },
      "outputs": [
        {
          "data": {
            "image/png": "[encoded data removed]",
            "text/plain": [
              "<Figure size 640x480 with 1 Axes>"
            ]
          },
          "metadata": {},
          "output_type": "display_data"
        }
      ],
      "source": [
        "import os\n",
        "os.environ['TF_CPP_MIN_LOG_LEVEL'] = '3'\n",
        "\n",
        "mnist = tf.keras.datasets.mnist\n",
        "(X_train, y_train), (X_test, y_test) = mnist.load_data()\n",
        "X_train = X_train.astype(np.float32) / 255.0\n",
        "X_test = X_test.astype(np.float32) / 255.0\n",
        "\n",
        "img = X_train[0]\n",
        "plt.imshow(img, cmap=\"gray\")\n",
        "plt.show()"
      ]
    },
    {
      "cell_type": "code",
      "execution_count": null,
      "metadata": {
        "colab": {
          "base_uri": "https://localhost:8080/",
          "height": 166
        },
        "id": "sPD9nuYx69jK",
        "outputId": "c4b82101-c0f5-4803-9481-16b66f998d65"
      },
      "outputs": [
        {
          "name": "stdout",
          "output_type": "stream",
          "text": [
            "conv2d.shape = (1, 14, 14, 5)\n"
          ]
        },
        {
          "data": {
            "image/png": "[encoded data removed]",
            "text/plain": [
              "<Figure size 640x480 with 5 Axes>"
            ]
          },
          "metadata": {},
          "output_type": "display_data"
        }
      ],
      "source": [
        "img = img.reshape(-1,28,28,1)\n",
        "img = tf.convert_to_tensor(img)\n",
        "weight_init = tf.keras.initializers.RandomNormal(stddev=0.01)\n",
        "conv2d = tf.keras.layers.Conv2D(filters=5, kernel_size=3, strides=(2,2), padding=\"SAME\", kernel_initializer=weight_init)(img)\n",
        "print(f\"conv2d.shape = {conv2d.shape}\")\n",
        "images = np.swapaxes(conv2d, 0, 3)\n",
        "for i, image in enumerate(images) :\n",
        "  plt.subplot(1,5,i+1)\n",
        "  plt.imshow(image.reshape(14,14), cmap=\"gray\")\n",
        "plt.show()"
      ]
    },
    {
      "cell_type": "code",
      "execution_count": null,
      "metadata": {
        "colab": {
          "base_uri": "https://localhost:8080/",
          "height": 164
        },
        "id": "gqANPdnz7lTk",
        "outputId": "3bcf8536-a5fe-4264-8956-050dc5b3666e"
      },
      "outputs": [
        {
          "name": "stdout",
          "output_type": "stream",
          "text": [
            "pool.shape = (1, 7, 7, 5)\n"
          ]
        },
        {
          "data": {
            "image/png": "[encoded data removed]",
            "text/plain": [
              "<Figure size 640x480 with 5 Axes>"
            ]
          },
          "metadata": {},
          "output_type": "display_data"
        }
      ],
      "source": [
        "pool = tf.keras.layers.MaxPool2D(pool_size=(2,2), strides=(2,2), padding=\"SAME\")(conv2d)\n",
        "print(f\"pool.shape = {pool.shape}\")\n",
        "images = np.swapaxes(pool, 0, 3)\n",
        "for i, image in enumerate(images) :\n",
        "  plt.subplot(1,5,i+1)\n",
        "  plt.imshow(image.reshape(7,7), cmap=\"gray\")\n",
        "\n",
        "plt.show()"
      ]
    },
    {
      "cell_type": "code",
      "execution_count": null,
      "metadata": {
        "id": "m5fbbvtz8I9d"
      },
      "outputs": [],
      "source": [
        "import os\n",
        "os.environ['TF_CPP_MIN_LOG_LEVEL'] = '3'\n",
        "\n",
        "mnist = tf.keras.datasets.mnist\n",
        "(X_train, y_train), (X_test, y_test) = mnist.load_data()\n",
        "X_train = X_train.reshape(-1,28,28,1)\n",
        "X_test = X_test.reshape(-1,28,28,1)\n",
        "X_train, X_test = X_train/255.0, X_test/255.0"
      ]
    },
    {
      "cell_type": "code",
      "execution_count": null,
      "metadata": {
        "id": "idW0ert4-1-u"
      },
      "outputs": [],
      "source": [
        "model = tf.keras.models.Sequential([\n",
        "    tf.keras.layers.Conv2D(32,(3,3), padding=\"same\",activation=\"relu\", input_shape=(28,28,1)),\n",
        "    tf.keras.layers.MaxPooling2D((2,2), padding=\"same\"),\n",
        "    tf.keras.layers.Dropout(0.3),\n",
        "    tf.keras.layers.Conv2D(64,(3,3),strides=(1,1), padding=\"same\",activation=\"relu\"),\n",
        "    tf.keras.layers.MaxPooling2D((2,2), padding=\"same\"),\n",
        "    tf.keras.layers.Dropout(0.3),\n",
        "    tf.keras.layers.Conv2D(128,(3,3), padding=\"same\",activation=\"relu\"),\n",
        "    tf.keras.layers.MaxPooling2D((2,2), padding=\"same\"),\n",
        "    tf.keras.layers.Flatten(),\n",
        "    tf.keras.layers.Dense(128, activation=\"relu\"),\n",
        "    tf.keras.layers.Dense(10, activation=\"softmax\")\n",
        "])"
      ]
    },
    {
      "cell_type": "code",
      "execution_count": null,
      "metadata": {
        "colab": {
          "background_save": true,
          "base_uri": "https://localhost:8080/"
        },
        "id": "JFGMvKZ2AD3I",
        "outputId": "65d5e48d-ff84-4ce1-f62d-e0685f7f184b"
      },
      "outputs": [
        {
          "name": "stdout",
          "output_type": "stream",
          "text": [
            "Model: \"sequential_4\"\n",
            "_________________________________________________________________\n",
            " Layer (type)                Output Shape              Param #   \n",
            "=================================================================\n",
            " conv2d_1 (Conv2D)           (None, 28, 28, 32)        320       \n",
            "                                                                 \n",
            " max_pooling2d_1 (MaxPooling  (None, 14, 14, 32)       0         \n",
            " 2D)                                                             \n",
            "                                                                 \n",
            " dropout_5 (Dropout)         (None, 14, 14, 32)        0         \n",
            "                                                                 \n",
            " conv2d_2 (Conv2D)           (None, 14, 14, 64)        18496     \n",
            "                                                                 \n",
            " max_pooling2d_2 (MaxPooling  (None, 7, 7, 64)         0         \n",
            " 2D)                                                             \n",
            "                                                                 \n",
            " dropout_6 (Dropout)         (None, 7, 7, 64)          0         \n",
            "                                                                 \n",
            " conv2d_3 (Conv2D)           (None, 7, 7, 128)         73856     \n",
            "                                                                 \n",
            " max_pooling2d_3 (MaxPooling  (None, 4, 4, 128)        0         \n",
            " 2D)                                                             \n",
            "                                                                 \n",
            " flatten_3 (Flatten)         (None, 2048)              0         \n",
            "                                                                 \n",
            " dense_17 (Dense)            (None, 128)               262272    \n",
            "                                                                 \n",
            " dense_18 (Dense)            (None, 10)                1290      \n",
            "                                                                 \n",
            "=================================================================\n",
            "Total params: 356,234\n",
            "Trainable params: 356,234\n",
            "Non-trainable params: 0\n",
            "_________________________________________________________________\n",
            "Epoch 1/5\n",
            "600/600 - 112s - loss: 0.2429 - accuracy: 0.9223 - val_loss: 0.0439 - val_accuracy: 0.9867 - 112s/epoch - 186ms/step\n",
            "Epoch 2/5\n",
            "600/600 - 109s - loss: 0.0645 - accuracy: 0.9799 - val_loss: 0.0332 - val_accuracy: 0.9895 - 109s/epoch - 181ms/step\n",
            "Epoch 3/5\n",
            "600/600 - 108s - loss: 0.0493 - accuracy: 0.9844 - val_loss: 0.0269 - val_accuracy: 0.9910 - 108s/epoch - 180ms/step\n",
            "Epoch 4/5\n",
            "600/600 - 105s - loss: 0.0411 - accuracy: 0.9870 - val_loss: 0.0246 - val_accuracy: 0.9914 - 105s/epoch - 175ms/step\n",
            "Epoch 5/5\n",
            "600/600 - 103s - loss: 0.0345 - accuracy: 0.9890 - val_loss: 0.0234 - val_accuracy: 0.9920 - 103s/epoch - 171ms/step\n",
            "100/100 - 5s - loss: 0.0234 - accuracy: 0.9920 - 5s/epoch - 45ms/step\n"
          ]
        },
        {
          "data": {
            "text/plain": [
              "[0.023404784500598907, 0.9919999837875366]"
            ]
          },
          "execution_count": 98,
          "metadata": {},
          "output_type": "execute_result"
        }
      ],
      "source": [
        "model.compile(optimizer=\"adam\", loss=\"sparse_categorical_crossentropy\", metrics=[\"accuracy\"])\n",
        "model.summary()\n",
        "hist = model.fit(X_train, Y_train, validation_data = (X_test, Y_test), verbose=2, batch_size=100, epochs=5, use_multiprocessing=True)\n",
        "model.evaluate(X_test, Y_test, verbose=2, batch_size=100, use_multiprocessing=True)"
      ]
    }
  ],
  "metadata": {
    "colab": {
      "provenance": [],
      "authorship_tag": "ABX9TyPkM0nKe4c+rC3VGgdj+zV7",
      "include_colab_link": true
    },
    "kernelspec": {
      "display_name": "Python 3",
      "name": "python3"
    },
    "language_info": {
      "name": "python"
    }
  },
  "nbformat": 4,
  "nbformat_minor": 0
}